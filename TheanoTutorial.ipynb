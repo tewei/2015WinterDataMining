{
 "metadata": {
  "name": "",
  "signature": "sha256:42bed1162d685828b9eb8ce1d2f2e40c55558b7bf9f2ee3289d2021cede62fd9"
 },
 "nbformat": 3,
 "nbformat_minor": 0,
 "worksheets": [
  {
   "cells": [
    {
     "cell_type": "code",
     "collapsed": false,
     "input": [
      "import theano.tensor as T\n",
      "from theano import function\n",
      "from theano import shared\n",
      "import theano\n",
      "import numpy\n",
      "from theano.sandbox.rng_mrg import MRG_RandomStreams\n",
      "from theano.tensor.shared_randomstreams import RandomStreams\n",
      "import os\n",
      "import time\n",
      "from pandas import DataFrame, Series\n",
      "import pandas as pd\n",
      "from theano.tensor.signal import downsample\n",
      "from theano.tensor.nnet import conv"
     ],
     "language": "python",
     "metadata": {},
     "outputs": [],
     "prompt_number": 1
    },
    {
     "cell_type": "code",
     "collapsed": false,
     "input": [
      "def load_data(directory):\n",
      "    ''' Loads the dataset\n",
      "    '''\n",
      "\n",
      "    #############\n",
      "    # LOAD DATA #\n",
      "    #############\n",
      "\n",
      "    print '... loading data'\n",
      "\n",
      "    # Load the dataset\n",
      "    train_df = DataFrame.from_csv(directory + '/digits_train.csv', index_col=False)\n",
      "    test_df = DataFrame.from_csv(directory + '/digits_test.csv', index_col=False)\n",
      "    train_set = [train_df.values[0:35000, 1:] / 255., train_df.values[0:35000, 0]]\n",
      "    valid_set = [train_df.values[35000:, 1:] / 255., train_df.values[35000:, 0]]\n",
      "    test_set = test_df.values / 255.\n",
      "    #train_set, valid_set format: tuple(input, target)\n",
      "    #input is an numpy.ndarray of 2 dimensions (a matrix)\n",
      "    #witch row's correspond to an example. target is a\n",
      "    #numpy.ndarray of 1 dimensions (vector)) that have the same length as\n",
      "    #the number of rows in the input. It should give the target\n",
      "    #target to the example with the same index in the input.\n",
      "\n",
      "    def shared_dataset(data_xy, borrow=True):\n",
      "        \"\"\" Function that loads the dataset into shared variables\n",
      "\n",
      "        The reason we store our dataset in shared variables is to allow\n",
      "        Theano to copy it into the GPU memory (when code is run on GPU).\n",
      "        Since copying data into the GPU is slow, copying a minibatch everytime\n",
      "        is needed (the default behaviour if the data is not in a shared\n",
      "        variable) would lead to a large decrease in performance.\n",
      "        \"\"\"\n",
      "        data_x, data_y = data_xy\n",
      "        shared_x = theano.shared(numpy.asarray(data_x,\n",
      "                                               dtype=theano.config.floatX),\n",
      "                                 borrow=borrow)\n",
      "        shared_y = theano.shared(numpy.asarray(data_y,\n",
      "                                               dtype=theano.config.floatX),\n",
      "                                 borrow=borrow)\n",
      "        # When storing data on the GPU it has to be stored as floats\n",
      "        # therefore we will store the labels as ``floatX`` as well\n",
      "        # (``shared_y`` does exactly that). But during our computations\n",
      "        # we need them as ints (we use labels as index, and if they are\n",
      "        # floats it doesn't make sense) therefore instead of returning\n",
      "        # ``shared_y`` we will have to cast it to int. This little hack\n",
      "        # lets ous get around this issue\n",
      "        return shared_x, T.cast(shared_y, 'int32')\n",
      "\n",
      "    test_set_x = theano.shared(numpy.asarray(test_set,\n",
      "                                             dtype=theano.config.floatX),\n",
      "                               borrow=True)\n",
      "    valid_set_x, valid_set_y = shared_dataset(valid_set)\n",
      "    train_set_x, train_set_y = shared_dataset(train_set)\n",
      "\n",
      "    rval = [(train_set_x, train_set_y), (valid_set_x, valid_set_y),\n",
      "            test_set_x]\n",
      "    return rval"
     ],
     "language": "python",
     "metadata": {},
     "outputs": [],
     "prompt_number": 2
    },
    {
     "cell_type": "code",
     "collapsed": false,
     "input": [
      "class LogisticRegression(object):\n",
      "    \"\"\"Multi-class Logistic Regression Class\n",
      "\n",
      "    The logistic regression is fully described by a weight matrix :math:`W`\n",
      "    and bias vector :math:`b`. Classification is done by projecting data\n",
      "    points onto a set of hyperplanes, the distance to which is used to\n",
      "    determine a class membership probability.\n",
      "    \"\"\"\n",
      "\n",
      "    def __init__(self, input, n_in, n_out):\n",
      "        \"\"\" Initialize the parameters of the logistic regression\n",
      "\n",
      "        :type input: theano.tensor.TensorType\n",
      "        :param input: symbolic variable that describes the input of the\n",
      "                      architecture (one minibatch)\n",
      "\n",
      "        :type n_in: int\n",
      "        :param n_in: number of input units, the dimension of the space in\n",
      "                     which the datapoints lie\n",
      "\n",
      "        :type n_out: int\n",
      "        :param n_out: number of output units, the dimension of the space in\n",
      "                      which the labels lie\n",
      "\n",
      "        \"\"\"\n",
      "\n",
      "        # initialize with 0 the weights W as a matrix of shape (n_in, n_out)\n",
      "        self.W = theano.shared(value=numpy.zeros((n_in, n_out),\n",
      "                                                 dtype=theano.config.floatX),\n",
      "                                name='W', borrow=True)\n",
      "        # initialize the biases b as a vector of n_out 0s\n",
      "        self.b = theano.shared(value=numpy.zeros((n_out,),\n",
      "                                                 dtype=theano.config.floatX),\n",
      "                               name='b', borrow=True)\n",
      "\n",
      "        # compute vector of class-membership probabilities in symbolic form\n",
      "        self.p_y_given_x = T.nnet.softmax(T.dot(input, self.W) + self.b)\n",
      "\n",
      "        # compute prediction as class whose probability is maximal in\n",
      "        # symbolic form\n",
      "        self.y_pred = T.argmax(self.p_y_given_x, axis=1)\n",
      "\n",
      "        # parameters of the model\n",
      "        self.params = [self.W, self.b]\n",
      "\n",
      "    def negative_log_likelihood(self, y):\n",
      "        \"\"\"Return the mean of the negative log-likelihood of the prediction\n",
      "        of this model under a given target distribution.\n",
      "\n",
      "        .. math::\n",
      "\n",
      "            \\frac{1}{|\\mathcal{D}|} \\mathcal{L} (\\theta=\\{W,b\\}, \\mathcal{D}) =\n",
      "            \\frac{1}{|\\mathcal{D}|} \\sum_{i=0}^{|\\mathcal{D}|} \\log(P(Y=y^{(i)}|x^{(i)}, W,b)) \\\\\n",
      "                \\ell (\\theta=\\{W,b\\}, \\mathcal{D})\n",
      "\n",
      "        :type y: theano.tensor.TensorType\n",
      "        :param y: corresponds to a vector that gives for each example the\n",
      "                  correct label\n",
      "\n",
      "        Note: we use the mean instead of the sum so that\n",
      "              the learning rate is less dependent on the batch size\n",
      "        \"\"\"\n",
      "        # y.shape[0] is (symbolically) the number of rows in y, i.e.,\n",
      "        # number of examples (call it n) in the minibatch\n",
      "        # T.arange(y.shape[0]) is a symbolic vector which will contain\n",
      "        # [0,1,2,... n-1] T.log(self.p_y_given_x) is a matrix of\n",
      "        # Log-Probabilities (call it LP) with one row per example and\n",
      "        # one column per class LP[T.arange(y.shape[0]),y] is a vector\n",
      "        # v containing [LP[0,y[0]], LP[1,y[1]], LP[2,y[2]], ...,\n",
      "        # LP[n-1,y[n-1]]] and T.mean(LP[T.arange(y.shape[0]),y]) is\n",
      "        # the mean (across minibatch examples) of the elements in v,\n",
      "        # i.e., the mean log-likelihood across the minibatch.\n",
      "        return -T.mean(T.log(self.p_y_given_x)[T.arange(y.shape[0]), y])\n",
      "\n",
      "    def errors(self, y):\n",
      "        \"\"\"Return a float representing the number of errors in the minibatch\n",
      "        over the total number of examples of the minibatch ; zero one\n",
      "        loss over the size of the minibatch\n",
      "\n",
      "        :type y: theano.tensor.TensorType\n",
      "        :param y: corresponds to a vector that gives for each example the\n",
      "                  correct label\n",
      "        \"\"\"\n",
      "\n",
      "        # check if y has same dimension of y_pred\n",
      "        if y.ndim != self.y_pred.ndim:\n",
      "            raise TypeError('y should have the same shape as self.y_pred',\n",
      "                ('y', target.type, 'y_pred', self.y_pred.type))\n",
      "        # check if y is of the correct datatype\n",
      "        if y.dtype.startswith('int'):\n",
      "            # the T.neq operator returns a vector of 0s and 1s, where 1\n",
      "            # represents a mistake in prediction\n",
      "            return T.mean(T.neq(self.y_pred, y))\n",
      "        else:\n",
      "            raise NotImplementedError()\n",
      "            \n",
      "    def predict(self):\n",
      "        return self.y_pred"
     ],
     "language": "python",
     "metadata": {},
     "outputs": [],
     "prompt_number": 3
    },
    {
     "cell_type": "code",
     "collapsed": false,
     "input": [
      "class HiddenLayer(object):\n",
      "    def __init__(self, rng, input, n_in, n_out, W=None, b=None,\n",
      "                 activation=T.tanh):\n",
      "        \"\"\"\n",
      "        Typical hidden layer of a MLP: units are fully-connected and have\n",
      "        sigmoidal activation function. Weight matrix W is of shape (n_in,n_out)\n",
      "        and the bias vector b is of shape (n_out,).\n",
      "\n",
      "        NOTE : The nonlinearity used here is tanh\n",
      "\n",
      "        Hidden unit activation is given by: tanh(dot(input,W) + b)\n",
      "\n",
      "        :type rng: numpy.random.RandomState\n",
      "        :param rng: a random number generator used to initialize weights\n",
      "\n",
      "        :type input: theano.tensor.dmatrix\n",
      "        :param input: a symbolic tensor of shape (n_examples, n_in)\n",
      "\n",
      "        :type n_in: int\n",
      "        :param n_in: dimensionality of input\n",
      "\n",
      "        :type n_out: int\n",
      "        :param n_out: number of hidden units\n",
      "\n",
      "        :type activation: theano.Op or function\n",
      "        :param activation: Non linearity to be applied in the hidden\n",
      "                           layer\n",
      "        \"\"\"\n",
      "        self.input = input\n",
      "\n",
      "        # `W` is initialized with `W_values` which is uniformely sampled\n",
      "        # from sqrt(-6./(n_in+n_hidden)) and sqrt(6./(n_in+n_hidden))\n",
      "        # for tanh activation function\n",
      "        # the output of uniform if converted using asarray to dtype\n",
      "        # theano.config.floatX so that the code is runable on GPU\n",
      "        # Note : optimal initialization of weights is dependent on the\n",
      "        #        activation function used (among other things).\n",
      "        #        For example, results presented in [Xavier10] suggest that you\n",
      "        #        should use 4 times larger initial weights for sigmoid\n",
      "        #        compared to tanh\n",
      "        #        We have no info for other function, so we use the same as\n",
      "        #        tanh.\n",
      "        if W is None:\n",
      "            W_values = numpy.asarray(rng.uniform(\n",
      "                    low=-numpy.sqrt(6. / (n_in + n_out)),\n",
      "                    high=numpy.sqrt(6. / (n_in + n_out)),\n",
      "                    size=(n_in, n_out)), dtype=theano.config.floatX)\n",
      "            if activation == theano.tensor.nnet.sigmoid:\n",
      "                W_values *= 4\n",
      "\n",
      "            W = theano.shared(value=W_values, name='W', borrow=True)\n",
      "\n",
      "        if b is None:\n",
      "            b_values = numpy.zeros((n_out,), dtype=theano.config.floatX)\n",
      "            b = theano.shared(value=b_values, name='b', borrow=True)\n",
      "\n",
      "        self.W = W\n",
      "        self.b = b\n",
      "\n",
      "        lin_output = T.dot(input, self.W) + self.b\n",
      "        self.output = (lin_output if activation is None\n",
      "                       else activation(lin_output))\n",
      "        # parameters of the model\n",
      "        self.params = [self.W, self.b]\n",
      "\n",
      "\n",
      "class MLP(object):\n",
      "    \"\"\"Multi-Layer Perceptron Class\n",
      "\n",
      "    A multilayer perceptron is a feedforward artificial neural network model\n",
      "    that has one layer or more of hidden units and nonlinear activations.\n",
      "    Intermediate layers usually have as activation function tanh or the\n",
      "    sigmoid function (defined here by a ``HiddenLayer`` class)  while the\n",
      "    top layer is a softamx layer (defined here by a ``LogisticRegression``\n",
      "    class).\n",
      "    \"\"\"\n",
      "\n",
      "    def __init__(self, rng, input, n_in, n_hidden, n_out):\n",
      "        \"\"\"Initialize the parameters for the multilayer perceptron\n",
      "\n",
      "        :type rng: numpy.random.RandomState\n",
      "        :param rng: a random number generator used to initialize weights\n",
      "\n",
      "        :type input: theano.tensor.TensorType\n",
      "        :param input: symbolic variable that describes the input of the\n",
      "        architecture (one minibatch)\n",
      "\n",
      "        :type n_in: int\n",
      "        :param n_in: number of input units, the dimension of the space in\n",
      "        which the datapoints lie\n",
      "\n",
      "        :type n_hidden: int\n",
      "        :param n_hidden: number of hidden units\n",
      "\n",
      "        :type n_out: int\n",
      "        :param n_out: number of output units, the dimension of the space in\n",
      "        which the labels lie\n",
      "\n",
      "        \"\"\"\n",
      "\n",
      "        # Since we are dealing with a one hidden layer MLP, this will translate\n",
      "        # into a HiddenLayer with a tanh activation function connected to the\n",
      "        # LogisticRegression layer; the activation function can be replaced by\n",
      "        # sigmoid or any other nonlinear function\n",
      "        self.hiddenLayer = HiddenLayer(rng=rng, input=input,\n",
      "                                       n_in=n_in, n_out=n_hidden,\n",
      "                                       activation=T.tanh)\n",
      "\n",
      "        # The logistic regression layer gets as input the hidden units\n",
      "        # of the hidden layer\n",
      "        self.logRegressionLayer = LogisticRegression(\n",
      "            input=self.hiddenLayer.output,\n",
      "            n_in=n_hidden,\n",
      "            n_out=n_out)\n",
      "\n",
      "        # L1 norm ; one regularization option is to enforce L1 norm to\n",
      "        # be small\n",
      "        self.L1 = abs(self.hiddenLayer.W).sum() \\\n",
      "                + abs(self.logRegressionLayer.W).sum()\n",
      "\n",
      "        # square of L2 norm ; one regularization option is to enforce\n",
      "        # square of L2 norm to be small\n",
      "        self.L2_sqr = (self.hiddenLayer.W ** 2).sum() \\\n",
      "                    + (self.logRegressionLayer.W ** 2).sum()\n",
      "\n",
      "        # negative log likelihood of the MLP is given by the negative\n",
      "        # log likelihood of the output of the model, computed in the\n",
      "        # logistic regression layer\n",
      "        self.negative_log_likelihood = self.logRegressionLayer.negative_log_likelihood\n",
      "        # same holds for the function computing the number of errors\n",
      "        self.errors = self.logRegressionLayer.errors\n",
      "\n",
      "        # the parameters of the model are the parameters of the two layer it is\n",
      "        # made out of\n",
      "        self.params = self.hiddenLayer.params + self.logRegressionLayer.params\n",
      "        self.predict = self.logRegressionLayer.predict"
     ],
     "language": "python",
     "metadata": {},
     "outputs": [],
     "prompt_number": 4
    },
    {
     "cell_type": "heading",
     "level": 1,
     "metadata": {},
     "source": [
      "Simple Neural Network"
     ]
    },
    {
     "cell_type": "code",
     "collapsed": false,
     "input": [
      "learning_rate=0.025\n",
      "L1_reg=0.00\n",
      "L2_reg=0.0001\n",
      "n_epochs=50\n",
      "directory='data'\n",
      "batch_size=20\n",
      "n_hidden=500\n",
      "\n",
      "datasets = load_data(directory)\n",
      "\n",
      "train_set_x, train_set_y = datasets[0]\n",
      "valid_set_x, valid_set_y = datasets[1]\n",
      "test_set_x = datasets[2]\n",
      "\n",
      "# compute number of minibatches for training, validation and testing\n",
      "n_train_batches = train_set_x.get_value(borrow=True).shape[0] / batch_size\n",
      "n_valid_batches = valid_set_x.get_value(borrow=True).shape[0] / batch_size\n",
      "n_test_batches = test_set_x.get_value(borrow=True).shape[0] / batch_size\n",
      "\n",
      "######################\n",
      "# BUILD ACTUAL MODEL #\n",
      "######################\n",
      "print '... building the model'\n",
      "\n",
      "# allocate symbolic variables for the data\n",
      "index = T.lscalar()  # index to a [mini]batch\n",
      "x = T.matrix('x')  # the data is presented as rasterized images\n",
      "y = T.ivector('y')  # the labels are presented as 1D vector of\n",
      "                        # [int] labels\n",
      "\n",
      "rng = numpy.random.RandomState(1234)\n",
      "\n",
      "# construct the MLP class\n",
      "classifier = MLP(rng=rng, input=x, n_in=28 * 28,\n",
      "                 n_hidden=n_hidden, n_out=10)\n",
      "\n",
      "# the cost we minimize during training is the negative log likelihood of\n",
      "# the model plus the regularization terms (L1 and L2); cost is expressed\n",
      "# here symbolically\n",
      "cost = classifier.negative_log_likelihood(y) \\\n",
      "        + L1_reg * classifier.L1 \\\n",
      "        + L2_reg * classifier.L2_sqr\n",
      "\n",
      "# compiling a Theano function that computes the mistakes that are made\n",
      "# by the model on a minibatch\n",
      "\n",
      "validate_model = theano.function(inputs=[index],\n",
      "            outputs=classifier.errors(y),\n",
      "            givens={\n",
      "                x: valid_set_x[index * batch_size:(index + 1) * batch_size],\n",
      "                y: valid_set_y[index * batch_size:(index + 1) * batch_size]})\n",
      "\n",
      "    # compute the gradient of cost with respect to theta (sotred in params)\n",
      "    # the resulting gradients will be stored in a list gparams\n",
      "gparams = []\n",
      "for param in classifier.params:\n",
      "    gparam = T.grad(cost, param)\n",
      "    gparams.append(gparam)\n",
      "\n",
      "# specify how to update the parameters of the model as a list of\n",
      "# (variable, update expression) pairs\n",
      "updates = []\n",
      "# given two list the zip A = [a1, a2, a3, a4] and B = [b1, b2, b3, b4] of\n",
      "# same length, zip generates a list C of same size, where each element\n",
      "# is a pair formed from the two lists :\n",
      "#    C = [(a1, b1), (a2, b2), (a3, b3), (a4, b4)]\n",
      "for param, gparam in zip(classifier.params, gparams):\n",
      "    updates.append((param, param - learning_rate * gparam))\n",
      "\n",
      "# compiling a Theano function `train_model` that returns the cost, but\n",
      "# in the same time updates the parameter of the model based on the rules\n",
      "# defined in `updates`\n",
      "train_model = theano.function(inputs=[index], outputs=cost,\n",
      "            updates=updates,\n",
      "            givens={\n",
      "                x: train_set_x[index * batch_size:(index + 1) * batch_size],\n",
      "                y: train_set_y[index * batch_size:(index + 1) * batch_size]})\n",
      "\n",
      "###############\n",
      "# TRAIN MODEL #\n",
      "###############\n",
      "print '... training'\n",
      "\n",
      "# early-stopping parameters\n",
      "patience = 10000  # look as this many examples regardless\n",
      "patience_increase = 2  # wait this much longer when a new best is\n",
      "                        # found\n",
      "improvement_threshold = 0.995  # a relative improvement of this much is\n",
      "                                   # considered significant\n",
      "validation_frequency = min(n_train_batches, patience / 2)\n",
      "                                  # go through this many\n",
      "                                  # minibatche before checking the network\n",
      "                                  # on the validation set; in this case we\n",
      "                                  # check every epoch\n",
      "\n",
      "best_validation_loss = numpy.inf\n",
      "best_iter = 0\n",
      "\n",
      "epoch = 0\n",
      "done_looping = False\n",
      "\n",
      "while (epoch < n_epochs) and (not done_looping):\n",
      "    epoch = epoch + 1\n",
      "    for minibatch_index in xrange(n_train_batches):\n",
      "\n",
      "        minibatch_avg_cost = train_model(minibatch_index)\n",
      "        # iteration number\n",
      "        iter = (epoch - 1) * n_train_batches + minibatch_index\n",
      "\n",
      "        if (iter + 1) % validation_frequency == 0:\n",
      "            # compute zero-one loss on validation set\n",
      "            validation_losses = [validate_model(i) for i\n",
      "                                     in xrange(n_valid_batches)]\n",
      "            this_validation_loss = numpy.mean(validation_losses)\n",
      "\n",
      "            print('epoch %i, validation error %f %%' %\n",
      "                     (epoch, this_validation_loss * 100.))\n",
      "\n",
      "            # if we got the best validation score until now\n",
      "            if this_validation_loss < best_validation_loss:\n",
      "                #improve patience if loss improvement is good enough\n",
      "                if this_validation_loss < best_validation_loss *  \\\n",
      "                        improvement_threshold:\n",
      "                    patience = max(patience, iter * patience_increase)\n",
      "\n",
      "                best_validation_loss = this_validation_loss\n",
      "\n",
      "        if patience <= iter:\n",
      "            done_looping = True\n",
      "            break"
     ],
     "language": "python",
     "metadata": {},
     "outputs": [
      {
       "output_type": "stream",
       "stream": "stdout",
       "text": [
        "... loading data\n",
        "... building the model"
       ]
      },
      {
       "output_type": "stream",
       "stream": "stdout",
       "text": [
        "\n",
        "... training"
       ]
      },
      {
       "output_type": "stream",
       "stream": "stdout",
       "text": [
        "\n",
        "epoch 1, validation error 9.542857 %"
       ]
      },
      {
       "output_type": "stream",
       "stream": "stdout",
       "text": [
        "\n",
        "epoch 2, validation error 8.500000 %"
       ]
      },
      {
       "output_type": "stream",
       "stream": "stdout",
       "text": [
        "\n",
        "epoch 3, validation error 8.085714 %"
       ]
      },
      {
       "output_type": "stream",
       "stream": "stdout",
       "text": [
        "\n",
        "epoch 4, validation error 7.428571 %"
       ]
      },
      {
       "output_type": "stream",
       "stream": "stdout",
       "text": [
        "\n",
        "epoch 5, validation error 6.757143 %"
       ]
      },
      {
       "output_type": "stream",
       "stream": "stdout",
       "text": [
        "\n",
        "epoch 6, validation error 6.242857 %"
       ]
      },
      {
       "output_type": "stream",
       "stream": "stdout",
       "text": [
        "\n",
        "epoch 7, validation error 5.757143 %"
       ]
      },
      {
       "output_type": "stream",
       "stream": "stdout",
       "text": [
        "\n",
        "epoch 8, validation error 5.442857 %"
       ]
      },
      {
       "output_type": "stream",
       "stream": "stdout",
       "text": [
        "\n",
        "epoch 9, validation error 5.157143 %"
       ]
      },
      {
       "output_type": "stream",
       "stream": "stdout",
       "text": [
        "\n",
        "epoch 10, validation error 4.914286 %"
       ]
      },
      {
       "output_type": "stream",
       "stream": "stdout",
       "text": [
        "\n",
        "epoch 11, validation error 4.628571 %"
       ]
      },
      {
       "output_type": "stream",
       "stream": "stdout",
       "text": [
        "\n",
        "epoch 12, validation error 4.485714 %"
       ]
      },
      {
       "output_type": "stream",
       "stream": "stdout",
       "text": [
        "\n",
        "epoch 13, validation error 4.285714 %"
       ]
      },
      {
       "output_type": "stream",
       "stream": "stdout",
       "text": [
        "\n",
        "epoch 14, validation error 4.171429 %"
       ]
      },
      {
       "output_type": "stream",
       "stream": "stdout",
       "text": [
        "\n",
        "epoch 15, validation error 4.014286 %"
       ]
      },
      {
       "output_type": "stream",
       "stream": "stdout",
       "text": [
        "\n",
        "epoch 16, validation error 3.971429 %"
       ]
      },
      {
       "output_type": "stream",
       "stream": "stdout",
       "text": [
        "\n",
        "epoch 17, validation error 3.842857 %"
       ]
      },
      {
       "output_type": "stream",
       "stream": "stdout",
       "text": [
        "\n",
        "epoch 18, validation error 3.685714 %"
       ]
      },
      {
       "output_type": "stream",
       "stream": "stdout",
       "text": [
        "\n",
        "epoch 19, validation error 3.614286 %"
       ]
      },
      {
       "output_type": "stream",
       "stream": "stdout",
       "text": [
        "\n",
        "epoch 20, validation error 3.600000 %"
       ]
      },
      {
       "output_type": "stream",
       "stream": "stdout",
       "text": [
        "\n",
        "epoch 21, validation error 3.528571 %"
       ]
      },
      {
       "output_type": "stream",
       "stream": "stdout",
       "text": [
        "\n",
        "epoch 22, validation error 3.385714 %"
       ]
      },
      {
       "output_type": "stream",
       "stream": "stdout",
       "text": [
        "\n",
        "epoch 23, validation error 3.314286 %"
       ]
      },
      {
       "output_type": "stream",
       "stream": "stdout",
       "text": [
        "\n",
        "epoch 24, validation error 3.214286 %"
       ]
      },
      {
       "output_type": "stream",
       "stream": "stdout",
       "text": [
        "\n",
        "epoch 25, validation error 3.128571 %"
       ]
      },
      {
       "output_type": "stream",
       "stream": "stdout",
       "text": [
        "\n",
        "epoch 26, validation error 3.000000 %"
       ]
      },
      {
       "output_type": "stream",
       "stream": "stdout",
       "text": [
        "\n",
        "epoch 27, validation error 2.985714 %"
       ]
      },
      {
       "output_type": "stream",
       "stream": "stdout",
       "text": [
        "\n",
        "epoch 28, validation error 2.928571 %"
       ]
      },
      {
       "output_type": "stream",
       "stream": "stdout",
       "text": [
        "\n",
        "epoch 29, validation error 2.928571 %"
       ]
      },
      {
       "output_type": "stream",
       "stream": "stdout",
       "text": [
        "\n",
        "epoch 30, validation error 2.928571 %"
       ]
      },
      {
       "output_type": "stream",
       "stream": "stdout",
       "text": [
        "\n",
        "epoch 31, validation error 2.900000 %"
       ]
      },
      {
       "output_type": "stream",
       "stream": "stdout",
       "text": [
        "\n",
        "epoch 32, validation error 2.871429 %"
       ]
      },
      {
       "output_type": "stream",
       "stream": "stdout",
       "text": [
        "\n",
        "epoch 33, validation error 2.857143 %"
       ]
      },
      {
       "output_type": "stream",
       "stream": "stdout",
       "text": [
        "\n",
        "epoch 34, validation error 2.871429 %"
       ]
      },
      {
       "output_type": "stream",
       "stream": "stdout",
       "text": [
        "\n",
        "epoch 35, validation error 2.842857 %"
       ]
      },
      {
       "output_type": "stream",
       "stream": "stdout",
       "text": [
        "\n",
        "epoch 36, validation error 2.828571 %"
       ]
      },
      {
       "output_type": "stream",
       "stream": "stdout",
       "text": [
        "\n",
        "epoch 37, validation error 2.842857 %"
       ]
      },
      {
       "output_type": "stream",
       "stream": "stdout",
       "text": [
        "\n",
        "epoch 38, validation error 2.814286 %"
       ]
      },
      {
       "output_type": "stream",
       "stream": "stdout",
       "text": [
        "\n",
        "epoch 39, validation error 2.828571 %"
       ]
      },
      {
       "output_type": "stream",
       "stream": "stdout",
       "text": [
        "\n",
        "epoch 40, validation error 2.814286 %"
       ]
      },
      {
       "output_type": "stream",
       "stream": "stdout",
       "text": [
        "\n",
        "epoch 41, validation error 2.785714 %"
       ]
      },
      {
       "output_type": "stream",
       "stream": "stdout",
       "text": [
        "\n",
        "epoch 42, validation error 2.728571 %"
       ]
      },
      {
       "output_type": "stream",
       "stream": "stdout",
       "text": [
        "\n",
        "epoch 43, validation error 2.714286 %"
       ]
      },
      {
       "output_type": "stream",
       "stream": "stdout",
       "text": [
        "\n",
        "epoch 44, validation error 2.700000 %"
       ]
      },
      {
       "output_type": "stream",
       "stream": "stdout",
       "text": [
        "\n",
        "epoch 45, validation error 2.671429 %"
       ]
      },
      {
       "output_type": "stream",
       "stream": "stdout",
       "text": [
        "\n",
        "epoch 46, validation error 2.685714 %"
       ]
      },
      {
       "output_type": "stream",
       "stream": "stdout",
       "text": [
        "\n",
        "epoch 47, validation error 2.700000 %"
       ]
      },
      {
       "output_type": "stream",
       "stream": "stdout",
       "text": [
        "\n",
        "epoch 48, validation error 2.700000 %"
       ]
      },
      {
       "output_type": "stream",
       "stream": "stdout",
       "text": [
        "\n",
        "epoch 49, validation error 2.700000 %"
       ]
      },
      {
       "output_type": "stream",
       "stream": "stdout",
       "text": [
        "\n",
        "epoch 50, validation error 2.671429 %"
       ]
      },
      {
       "output_type": "stream",
       "stream": "stdout",
       "text": [
        "\n"
       ]
      }
     ],
     "prompt_number": 5
    },
    {
     "cell_type": "heading",
     "level": 1,
     "metadata": {},
     "source": [
      "LeNet Convolutional Neural Network"
     ]
    },
    {
     "cell_type": "code",
     "collapsed": false,
     "input": [
      "from theano.tensor.signal import downsample\n",
      "from theano.tensor.nnet import conv\n",
      "\n",
      "class LeNetConvPoolLayer(object):\n",
      "    \"\"\"Pool Layer of a convolutional network \"\"\"\n",
      "\n",
      "    def __init__(self, rng, input, filter_shape, image_shape, poolsize=(2, 2)):\n",
      "        \"\"\"\n",
      "        Allocate a LeNetConvPoolLayer with shared variable internal parameters.\n",
      "\n",
      "        :type rng: numpy.random.RandomState\n",
      "        :param rng: a random number generator used to initialize weights\n",
      "\n",
      "        :type input: theano.tensor.dtensor4\n",
      "        :param input: symbolic image tensor, of shape image_shape\n",
      "\n",
      "        :type filter_shape: tuple or list of length 4\n",
      "        :param filter_shape: (number of filters, num input feature maps,\n",
      "                              filter height,filter width)\n",
      "\n",
      "        :type image_shape: tuple or list of length 4\n",
      "        :param image_shape: (batch size, num input feature maps,\n",
      "                             image height, image width)\n",
      "\n",
      "        :type poolsize: tuple or list of length 2\n",
      "        :param poolsize: the downsampling (pooling) factor (#rows,#cols)\n",
      "        \"\"\"\n",
      "\n",
      "        assert image_shape[1] == filter_shape[1]\n",
      "        self.input = input\n",
      "\n",
      "        # there are \"num input feature maps * filter height * filter width\"\n",
      "        # inputs to each hidden unit\n",
      "        fan_in = numpy.prod(filter_shape[1:])\n",
      "        # each unit in the lower layer receives a gradient from:\n",
      "        # \"num output feature maps * filter height * filter width\" /\n",
      "        #   pooling size\n",
      "        fan_out = (filter_shape[0] * numpy.prod(filter_shape[2:]) /\n",
      "                   numpy.prod(poolsize))\n",
      "        # initialize weights with random weights\n",
      "        W_bound = numpy.sqrt(6. / (fan_in + fan_out))\n",
      "        self.W = theano.shared(numpy.asarray(\n",
      "            rng.uniform(low=-W_bound, high=W_bound, size=filter_shape),\n",
      "            dtype=theano.config.floatX),\n",
      "                               borrow=True)\n",
      "\n",
      "        # the bias is a 1D tensor -- one bias per output feature map\n",
      "        b_values = numpy.zeros((filter_shape[0],), dtype=theano.config.floatX)\n",
      "        self.b = theano.shared(value=b_values, borrow=True)\n",
      "\n",
      "        # convolve input feature maps with filters\n",
      "        conv_out = conv.conv2d(input=input, filters=self.W,\n",
      "                filter_shape=filter_shape, image_shape=image_shape)\n",
      "\n",
      "        # downsample each feature map individually, using maxpooling\n",
      "        pooled_out = downsample.max_pool_2d(input=conv_out,\n",
      "                                            ds=poolsize, ignore_border=True)\n",
      "\n",
      "        # add the bias term. Since the bias is a vector (1D array), we first\n",
      "        # reshape it to a tensor of shape (1,n_filters,1,1). Each bias will\n",
      "        # thus be broadcasted across mini-batches and feature map\n",
      "        # width & height\n",
      "        self.output = T.tanh(pooled_out + self.b.dimshuffle('x', 0, 'x', 'x'))\n",
      "\n",
      "        # store parameters of this layer\n",
      "        self.params = [self.W, self.b]\n",
      "    \n",
      "    def return_output():\n",
      "        return self.output"
     ],
     "language": "python",
     "metadata": {},
     "outputs": [],
     "prompt_number": 6
    },
    {
     "cell_type": "heading",
     "level": 3,
     "metadata": {},
     "source": [
      "Model Setup"
     ]
    },
    {
     "cell_type": "code",
     "collapsed": false,
     "input": [
      "learning_rate=0.1\n",
      "directory='data'\n",
      "nkerns=[20, 50]\n",
      "batch_size=500\n",
      "\"\"\" Demonstrates lenet on MNIST dataset\n",
      "\n",
      ":type learning_rate: float\n",
      ":param learning_rate: learning rate used (factor for the stochastic\n",
      "                        gradient)\n",
      "\n",
      ":type n_epochs: int\n",
      ":param n_epochs: maximal number of epochs to run the optimizer\n",
      "\n",
      ":type dataset: string\n",
      ":param dataset: path to the dataset used for training /testing (MNIST here)\n",
      "\n",
      ":type nkerns: list of ints\n",
      ":param nkerns: number of kernels on each layer\n",
      "\"\"\"\n",
      "\n",
      "rng = numpy.random.RandomState(23455)\n",
      "\n",
      "datasets = load_data(directory)\n",
      "\n",
      "train_set_x, train_set_y = datasets[0]\n",
      "valid_set_x, valid_set_y = datasets[1]\n",
      "test_set_x = datasets[2]\n",
      "\n",
      "# compute number of minibatches for training, validation and testing\n",
      "n_train_batches = train_set_x.get_value(borrow=True).shape[0]\n",
      "n_valid_batches = valid_set_x.get_value(borrow=True).shape[0]\n",
      "n_test_batches = test_set_x.get_value(borrow=True).shape[0]\n",
      "n_train_batches /= batch_size\n",
      "n_valid_batches /= batch_size\n",
      "n_test_batches /= batch_size\n",
      "\n",
      "# allocate symbolic variables for the data\n",
      "index = T.lscalar()  # index to a [mini]batch\n",
      "x = T.matrix('x')   # the data is presented as rasterized images\n",
      "y = T.ivector('y')  # the labels are presented as 1D vector of\n",
      "                        # [int] labels\n",
      "\n",
      "ishape = (28, 28)  # this is the size of MNIST images\n",
      "\n",
      "######################\n",
      "# BUILD ACTUAL MODEL #\n",
      "######################\n",
      "print '... building the model'\n",
      "\n",
      "# Reshape matrix of rasterized images of shape (batch_size,28*28)\n",
      "# to a 4D tensor, compatible with our LeNetConvPoolLayer\n",
      "layer0_input = x.reshape((batch_size, 1, 28, 28))\n",
      "\n",
      "# Construct the first convolutional pooling layer:\n",
      "# filtering reduces the image size to (28-5+1,28-5+1)=(24,24)\n",
      "# maxpooling reduces this further to (24/2,24/2) = (12,12)\n",
      "# 4D output tensor is thus of shape (batch_size,nkerns[0],12,12)\n",
      "layer0 = LeNetConvPoolLayer(rng, input=layer0_input,\n",
      "            image_shape=(batch_size, 1, 28, 28),\n",
      "            filter_shape=(nkerns[0], 1, 5, 5), poolsize=(2, 2))\n",
      "\n",
      "# Construct the second convolutional pooling layer\n",
      "# filtering reduces the image size to (12-5+1,12-5+1)=(8,8)\n",
      "# maxpooling reduces this further to (8/2,8/2) = (4,4)\n",
      "# 4D output tensor is thus of shape (nkerns[0],nkerns[1],4,4)\n",
      "layer1 = LeNetConvPoolLayer(rng, input=layer0.output,\n",
      "            image_shape=(batch_size, nkerns[0], 12, 12),\n",
      "            filter_shape=(nkerns[1], nkerns[0], 5, 5), poolsize=(2, 2))\n",
      "\n",
      "# the HiddenLayer being fully-connected, it operates on 2D matrices of\n",
      "# shape (batch_size,num_pixels) (i.e matrix of rasterized images).\n",
      "# This will generate a matrix of shape (20,32*4*4) = (20,512)\n",
      "layer2_input = layer1.output.flatten(2)\n",
      "\n",
      "# construct a fully-connected sigmoidal layer\n",
      "layer2 = HiddenLayer(rng, input=layer2_input, n_in=nkerns[1] * 4 * 4,\n",
      "                         n_out=500, activation=T.tanh)\n",
      "\n",
      "# classify the values of the fully-connected sigmoidal layer\n",
      "layer3 = LogisticRegression(input=layer2.output, n_in=500, n_out=10)\n",
      "\n",
      "# the cost we minimize during training is the NLL of the model\n",
      "cost = layer3.negative_log_likelihood(y)\n",
      "\n",
      "# create a function to compute the mistakes that are made by the model\n",
      "validate_model = theano.function([index], layer3.errors(y),\n",
      "            givens={\n",
      "                x: valid_set_x[index * batch_size: (index + 1) * batch_size],\n",
      "                y: valid_set_y[index * batch_size: (index + 1) * batch_size]})\n",
      "\n",
      "# create a list of all model parameters to be fit by gradient descent\n",
      "params = layer3.params + layer2.params + layer1.params + layer0.params\n",
      "\n",
      "# create a list of gradients for all model parameters\n",
      "grads = T.grad(cost, params)\n",
      "\n",
      "# train_model is a function that updates the model parameters by\n",
      "# SGD Since this model has many parameters, it would be tedious to\n",
      "# manually create an update rule for each model parameter. We thus\n",
      "# create the updates list by automatically looping over all\n",
      "# (params[i],grads[i]) pairs.\n",
      "updates = []\n",
      "for param_i, grad_i in zip(params, grads):\n",
      "    updates.append((param_i, param_i - learning_rate * grad_i))\n",
      "\n",
      "train_model = theano.function([index], cost, updates=updates,\n",
      "          givens={\n",
      "            x: train_set_x[index * batch_size: (index + 1) * batch_size],\n",
      "            y: train_set_y[index * batch_size: (index + 1) * batch_size]})"
     ],
     "language": "python",
     "metadata": {},
     "outputs": []
    },
    {
     "cell_type": "heading",
     "level": 3,
     "metadata": {},
     "source": [
      "Model Training"
     ]
    },
    {
     "cell_type": "code",
     "collapsed": false,
     "input": [
      "n_epochs=200\n",
      "###############\n",
      "# TRAIN MODEL #\n",
      "###############\n",
      "print '... training'\n",
      "# early-stopping parameters\n",
      "patience = 10000  # look as this many examples regardless\n",
      "patience_increase = 2  # wait this much longer when a new best is\n",
      "                           # found\n",
      "improvement_threshold = 0.995  # a relative improvement of this much is\n",
      "                                   # considered significant\n",
      "validation_frequency = min(n_train_batches, patience / 2)\n",
      "                                  # go through this many\n",
      "                                  # minibatche before checking the network\n",
      "                                  # on the validation set; in this case we\n",
      "                                  # check every epoch\n",
      "\n",
      "best_validation_loss = numpy.inf\n",
      "best_iter = 0\n",
      "\n",
      "epoch = 0\n",
      "done_looping = False\n",
      "\n",
      "while (epoch < n_epochs) and (not done_looping):\n",
      "    epoch = epoch + 1\n",
      "    for minibatch_index in xrange(n_train_batches):\n",
      "\n",
      "        iter = (epoch - 1) * n_train_batches + minibatch_index\n",
      "\n",
      "        if iter % 100 == 0:\n",
      "            print 'training @ iter = ', iter\n",
      "        cost_ij = train_model(minibatch_index)\n",
      "\n",
      "        if (iter + 1) % validation_frequency == 0:\n",
      "\n",
      "            # compute zero-one loss on validation set\n",
      "            validation_losses = [validate_model(i) for i\n",
      "                                    in xrange(n_valid_batches)]\n",
      "            this_validation_loss = numpy.mean(validation_losses)\n",
      "            print('epoch %i, validation error %f %%' % \\\n",
      "                      (epoch, this_validation_loss * 100.))\n",
      "\n",
      "            # if we got the best validation score until now\n",
      "            if this_validation_loss < best_validation_loss:\n",
      "\n",
      "                #improve patience if loss improvement is good enough\n",
      "                if this_validation_loss < best_validation_loss *  \\\n",
      "                       improvement_threshold:\n",
      "                    patience = max(patience, iter * patience_increase)\n",
      "\n",
      "                # save best validation score and iteration number\n",
      "                best_validation_loss = this_validation_loss\n",
      "                best_iter = iter\n",
      "\n",
      "        if patience <= iter:\n",
      "            done_looping = True\n",
      "            break"
     ],
     "language": "python",
     "metadata": {},
     "outputs": []
    },
    {
     "cell_type": "heading",
     "level": 3,
     "metadata": {},
     "source": [
      "Prediction and Submission File Creation"
     ]
    },
    {
     "cell_type": "code",
     "collapsed": false,
     "input": [
      "model_predict = theano.function([index], layer3.y_pred,\n",
      "         givens={\n",
      "            x: test_set_x[index * batch_size: (index + 1) * batch_size]})"
     ],
     "language": "python",
     "metadata": {},
     "outputs": []
    },
    {
     "cell_type": "code",
     "collapsed": false,
     "input": [
      "digit_preds = Series(np.concatenate([model_predict(i) for i in xrange(n_test_batches)]))\n",
      "image_ids = Series(np.arange(1, len(digit_preds) + 1))\n",
      "submission = DataFrame([image_ids, digit_preds]).T\n",
      "submission.columns = ['ImageId', 'Label']\n",
      "submission.to_csv('submission_sample.csv', index=False)"
     ],
     "language": "python",
     "metadata": {},
     "outputs": []
    }
   ],
   "metadata": {}
  }
 ]
}