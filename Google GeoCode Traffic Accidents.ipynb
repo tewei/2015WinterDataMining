{
 "cells": [
  {
   "cell_type": "code",
   "execution_count": 2,
   "metadata": {
    "collapsed": true
   },
   "outputs": [],
   "source": [
    "import requests\n",
    "import json\n"
   ]
  },
  {
   "cell_type": "code",
   "execution_count": 37,
   "metadata": {
    "collapsed": false
   },
   "outputs": [],
   "source": [
    "RAW_DATA = requests.get(\"http://od.moi.gov.tw/api/v1/rest/datastore/A01010000C-000401-003\").json()\n"
   ]
  },
  {
   "cell_type": "code",
   "execution_count": 49,
   "metadata": {
    "collapsed": true
   },
   "outputs": [],
   "source": [
    "def get_geometry(_addr):\n",
    "    addr = _addr\n",
    "    key = \"\"\n",
    "    URL = \"https://maps.googleapis.com/maps/api/geocode/json?address=\"+addr+\"&key=\"+key\n",
    "    DATA = requests.get(URL).json()\n",
    "    if(DATA['status'] == 'OK'):\n",
    "        lat = DATA['results'][0]['geometry']['location']['lat']\n",
    "        lng = DATA['results'][0]['geometry']['location']['lng']\n",
    "        return (lat, lng)\n",
    "    else:\n",
    "        return (0, 0)\n",
    "    \n"
   ]
  },
  {
   "cell_type": "code",
   "execution_count": 52,
   "metadata": {
    "collapsed": false
   },
   "outputs": [
    {
     "name": "stdout",
     "output_type": "stream",
     "text": [
      "地點 25.0197734 121.3065717\n",
      "臺東縣海端鄉初來村臺20線205公里處 23.124245 121.160732\n",
      "彰化縣二林鎮二溪路6段 23.9543354 120.4213742\n",
      "國道3號北向377公里660公尺 23.8276867 120.7082461\n",
      "高雄市鳳山區國光路與五權南路口 22.6191319 120.351976\n",
      "嘉義縣太保市北港路2段 23.4983793 120.3725725\n",
      "嘉義縣民雄鄉文隆村18鄰文化路 23.5377068 120.4256805\n",
      "臺北市忠孝東路一段與金山南路口 25.0448969 121.5233446\n",
      "桃園縣觀音鄉新華路1段 24.9936281 121.3009798\n",
      "國道3號南向48.5公里 23.8276867 120.7082461\n",
      "國道1號南向287.45公里(新營交流道出口) 0 0\n",
      "桃園縣楊梅市幸福水泥平交道 24.9242108 121.1366715\n",
      "花蓮縣台11丙線43公里 0 0\n",
      "雪山隧道（國道5號南下26公里） 0 0\n",
      "嘉義市西區世賢路三段地下道（機慢車道） 0 0\n",
      "屏東縣東港鎮187線與港東路口（187線34.5公里） 0 0\n",
      "國道1號北向263.360公里（過嘉義交流道） 0 0\n",
      "桃園縣中壢市中豐北路1段 0 0\n",
      "新竹縣尖石鄉司馬庫斯8.85公里 24.577585 121.332632\n",
      "嘉義縣台18線39公里（阿里山公路） 0 0\n",
      "嘉義縣番路鄉臺18線29.9公里 23.4407355 120.6084832\n",
      "高雄市鳥松區美山路7號 22.6411365 120.3795619\n",
      "嘉義縣臺18線69.2公里 23.4518428 120.2554615\n",
      "臺東縣大武鄉臺9線429公里600公尺處 22.4141954 120.907304\n",
      "雲林縣虎尾鎮學府路與學府西路口 23.7358302 120.4181347\n",
      "南投縣仁愛鄉大同村臺14甲線8公里50公尺處 24.073557 121.1538564\n",
      "新竹縣竹北市中華路與中和街口 24.8432196 121.0055515\n",
      "雲林縣元長鄉臺78線快速公路14.2公里 23.6288771 120.3320195\n",
      "屏東縣恆春鎮鵝鑾里船帆路段 21.9327981 120.8326663\n",
      "新竹縣北埔鄉竹37-4線五指山往北埔方向 24.6631393 121.067907\n",
      "屏東縣佳冬鄉石光村大豐路與農場路口 22.4384255 120.5668297\n",
      "臺東縣大武鄉大竹村臺9線425公里 22.4372727 120.9245216\n",
      "國道3號南向270.4公里 23.8276867 120.7082461\n",
      "彰化縣福興鄉彰鹿路6段與南環路口 24.0463334 120.4629769\n",
      "嘉義縣民雄鄉福樂村台1線261.2公里 23.5243024 120.4394071\n",
      "花蓮縣鳳林鎮南平里舊臺9線林榮路坪林陸橋 23.7783098 121.4599012\n",
      "國道8號東向4公里300公尺 23.0751359 120.2642776\n",
      "宜蘭縣冬山鄉冬山路三段與永興路口（省道台9線93.4K） 24.6593534 121.7772411\n",
      "屏東縣恆春鎮水泉里下泉路段(貓鼻頭公園入口處) 21.928955 120.733054\n",
      "花蓮縣瑞穗鄉鶴岡村193線86公里200公尺處 23.5271607 121.4056153\n",
      "屏東縣內埔鄉美和村屏光路與學人路口（台1線408公里處） 22.5932609 120.5581307\n",
      "臺中市沙廘區向上路近自立路口前 24.1477358 120.6736482\n",
      "南投縣埔里鎮武界路57之12號前 23.921671 121.0037975\n",
      "國道3號130.3公里南向 23.8276867 120.7082461\n",
      "屏東縣恆春鎮南灣里南光路段（墾4-1道路23.5公里處） 21.9682186 120.7471022\n",
      "臺北市士林區中湖戰備道冷水坑2.7公里前 25.1724034 121.5595818\n",
      "新竹市東區經國路1段534號 24.814489 120.9762587\n"
     ]
    }
   ],
   "source": [
    "major_accidents = RAW_DATA['result']['records']\n",
    "\n",
    "for data in major_accidents:\n",
    "    lat, lng = get_geometry(data['PLACE'])\n",
    "    print data['PLACE'], lat, lng\n",
    "   "
   ]
  },
  {
   "cell_type": "code",
   "execution_count": null,
   "metadata": {
    "collapsed": true
   },
   "outputs": [],
   "source": []
  }
 ],
 "metadata": {
  "kernelspec": {
   "display_name": "Python 2",
   "language": "python",
   "name": "python2"
  },
  "language_info": {
   "codemirror_mode": {
    "name": "ipython",
    "version": 2
   },
   "file_extension": ".py",
   "mimetype": "text/x-python",
   "name": "python",
   "nbconvert_exporter": "python",
   "pygments_lexer": "ipython2",
   "version": "2.7.9"
  }
 },
 "nbformat": 4,
 "nbformat_minor": 0
}
