{
 "cells": [
  {
   "cell_type": "markdown",
   "metadata": {
    "slideshow": {
     "slide_type": "slide"
    }
   },
   "source": [
    "#自己的Facebook自己分析\n",
    "###By tewei 小美\n",
    "###1. 今天課的分量很少請大家儘量做完\n",
    "###2. 講師不是很懂今天要講的東西請大家多多包函"
   ]
  },
  {
   "cell_type": "markdown",
   "metadata": {
    "slideshow": {
     "slide_type": "slide"
    }
   },
   "source": [
    "##安裝順序\n",
    "###1. Python 2.7 (記得加入Path)\n",
    "###2. PIP (python get-pip.py) (記得加入Path!!!)\n",
    "###3. pip install ipython\n",
    "###4. pip install requests"
   ]
  },
  {
   "cell_type": "markdown",
   "metadata": {
    "slideshow": {
     "slide_type": "subslide"
    }
   },
   "source": [
    "##開啓ipython notebook\n",
    "###ipython notebook"
   ]
  },
  {
   "cell_type": "markdown",
   "metadata": {
    "slideshow": {
     "slide_type": "slide"
    }
   },
   "source": [
    "##首先介紹Python"
   ]
  },
  {
   "cell_type": "markdown",
   "metadata": {
    "slideshow": {
     "slide_type": "slide"
    }
   },
   "source": [
    "##List\n",
    "###簡單的小東西"
   ]
  },
  {
   "cell_type": "code",
   "execution_count": 11,
   "metadata": {
    "collapsed": false,
    "slideshow": {
     "slide_type": "subslide"
    }
   },
   "outputs": [
    {
     "name": "stdout",
     "output_type": "stream",
     "text": [
      "[1, 2, [3, 4, 5]]\n"
     ]
    }
   ],
   "source": [
    "a = [1, 2]\n",
    "a.append([3, 4, 5])\n",
    "\n",
    "print a"
   ]
  },
  {
   "cell_type": "code",
   "execution_count": 12,
   "metadata": {
    "collapsed": false,
    "slideshow": {
     "slide_type": "subslide"
    }
   },
   "outputs": [
    {
     "name": "stdout",
     "output_type": "stream",
     "text": [
      "[1, 2, 3, 4, 5]\n"
     ]
    }
   ],
   "source": [
    "a = [1, 2]\n",
    "a.extend([3, 4, 5])\n",
    "\n",
    "print a"
   ]
  },
  {
   "cell_type": "code",
   "execution_count": 13,
   "metadata": {
    "collapsed": false,
    "slideshow": {
     "slide_type": "subslide"
    }
   },
   "outputs": [
    {
     "name": "stdout",
     "output_type": "stream",
     "text": [
      "甲\n",
      "乙\n",
      "丙\n",
      "丁\n",
      "戊\n",
      "長度: 5\n"
     ]
    }
   ],
   "source": [
    "a = [\"甲\", \"乙\", \"丙\", \"丁\", \"戊\"]\n",
    "\n",
    "for i in a:\n",
    "    print i\n",
    "\n",
    "print \"長度: \" + str(len(a))"
   ]
  },
  {
   "cell_type": "markdown",
   "metadata": {
    "slideshow": {
     "slide_type": "slide"
    }
   },
   "source": [
    "##Dictionary\n",
    "###一樣是簡單的小東西"
   ]
  },
  {
   "cell_type": "code",
   "execution_count": 14,
   "metadata": {
    "collapsed": false,
    "slideshow": {
     "slide_type": "subslide"
    }
   },
   "outputs": [],
   "source": [
    "a = {}\n",
    "\n",
    "a['斧頭'] = \"我是斧頭\"\n",
    "a['鴨子'] = \"他是鴨子\"\n",
    "a['芭樂'] = \"你是芭樂\""
   ]
  },
  {
   "cell_type": "code",
   "execution_count": 15,
   "metadata": {
    "collapsed": false,
    "slideshow": {
     "slide_type": "subslide"
    }
   },
   "outputs": [
    {
     "name": "stdout",
     "output_type": "stream",
     "text": [
      "斧頭: 我是斧頭\n",
      "芭樂: 你是芭樂\n",
      "鴨子: 他是鴨子\n"
     ]
    }
   ],
   "source": [
    "a = {\"斧頭\": \"我是斧頭\", \"鴨子\": \"他是鴨子\", \"芭樂\": \"你是芭樂\"}\n",
    "\n",
    "for i in a:\n",
    "    print i + \": \" + a[i]\n"
   ]
  },
  {
   "cell_type": "markdown",
   "metadata": {
    "slideshow": {
     "slide_type": "slide"
    }
   },
   "source": [
    "##Graph API Explorer"
   ]
  },
  {
   "cell_type": "markdown",
   "metadata": {
    "slideshow": {
     "slide_type": "subslide"
    }
   },
   "source": [
    "##取得Access Token之前記得要把權限打開"
   ]
  },
  {
   "cell_type": "markdown",
   "metadata": {
    "slideshow": {
     "slide_type": "slide"
    }
   },
   "source": [
    "##Get Access Token from [HERE](https://developers.facebook.com/tools/explorer/)\n"
   ]
  },
  {
   "cell_type": "code",
   "execution_count": 1,
   "metadata": {
    "collapsed": false,
    "slideshow": {
     "slide_type": "subslide"
    }
   },
   "outputs": [],
   "source": [
    "AccessToken = 'CAACEdEose0cBAIoeiAfT23nqxqUJMl3JOz9SSxCHjKuUco5hZCe9ZAjRRuye24zK1pWRsFLtvaNZBJxaslXIpJCi7ZBPXs4KGxZAJfeeQXkjgyITay2WsUhlXan2OmJaThfPhCQykTmKPO2857WYrSxJ76rVilN1dOF0qfkTHNXOVCM2UCWyakV1WjlIuZCu5Feh5CHEQtCjb8SSEVgBROQGedXFs4oRwZD'"
   ]
  },
  {
   "cell_type": "markdown",
   "metadata": {
    "slideshow": {
     "slide_type": "slide"
    }
   },
   "source": [
    "##Make a Request to GraphAPI"
   ]
  },
  {
   "cell_type": "code",
   "execution_count": 2,
   "metadata": {
    "collapsed": false,
    "slideshow": {
     "slide_type": "slide"
    }
   },
   "outputs": [
    {
     "name": "stdout",
     "output_type": "stream",
     "text": [
      "https://graph.facebook.com/me?fields=id,name,friends&access_token=CAACEdEose0cBAIoeiAfT23nqxqUJMl3JOz9SSxCHjKuUco5hZCe9ZAjRRuye24zK1pWRsFLtvaNZBJxaslXIpJCi7ZBPXs4KGxZAJfeeQXkjgyITay2WsUhlXan2OmJaThfPhCQykTmKPO2857WYrSxJ76rVilN1dOF0qfkTHNXOVCM2UCWyakV1WjlIuZCu5Feh5CHEQtCjb8SSEVgBROQGedXFs4oRwZD\n",
      "{\n",
      "  \"friends\": {\n",
      "    \"paging\": {\n",
      "      \"next\": \"https://graph.facebook.com/v2.0/466344503500538/friends?access_token=CAACEdEose0cBAIoeiAfT23nqxqUJMl3JOz9SSxCHjKuUco5hZCe9ZAjRRuye24zK1pWRsFLtvaNZBJxaslXIpJCi7ZBPXs4KGxZAJfeeQXkjgyITay2WsUhlXan2OmJaThfPhCQykTmKPO2857WYrSxJ76rVilN1dOF0qfkTHNXOVCM2UCWyakV1WjlIuZCu5Feh5CHEQtCjb8SSEVgBROQGedXFs4oRwZD&limit=5000&offset=5000&__after_id=enc_AewhdgnQo-alF1G31dMRuL_ilBsoM-hh9rExyvnXjFZM6TcfUCUWnQFBKE4mYOE3uwrsQSl4jIPoYOJrWdXVBS4B\"\n",
      "    }, \n",
      "    \"data\": [\n",
      "      {\n",
      "        \"name\": \"Mike K Tung\", \n",
      "        \"id\": \"1200220\"\n",
      "      }, \n",
      "      {\n",
      "        \"name\": \"\\u6c5f\\u8aa0\\u654f\", \n",
      "        \"id\": \"831590493\"\n",
      "      }, \n",
      "      {\n",
      "        \"name\": \"Chien-Hsun Chen\", \n",
      "        \"id\": \"1025586530\"\n",
      "      }, \n",
      "      {\n",
      "        \"name\": \"\\u675f\\u51f1\\u6587\", \n",
      "        \"id\": \"1448347314\"\n",
      "      }, \n",
      "      {\n",
      "        \"name\": \"Jui-Min Lee\", \n",
      "        \"id\": \"1470507523\"\n",
      "      }, \n",
      "      {\n",
      "        \"name\": \"\\u5f9e\\u6069\\u856d\", \n",
      "        \"id\": \"100000128930053\"\n",
      "      }, \n",
      "      {\n",
      "        \"name\": \"Willy Kuo\", \n",
      "        \"id\": \"100000133304694\"\n",
      "      }, \n",
      "      {\n",
      "        \"name\": \"\\u8a31\\u7950\\u7a0b\", \n",
      "        \"id\": \"100000169083072\"\n",
      "      }, \n",
      "      {\n",
      "        \"name\": \"Brian Liu\", \n",
      "        \"id\": \"881560418526592\"\n",
      "      }, \n",
      "      {\n",
      "        \"name\": \"\\u5510\\u741d\\u84c1\", \n",
      "        \"id\": \"908761125808363\"\n",
      "      }, \n",
      "      {\n",
      "        \"name\": \"\\u674e\\u4f69\\u7487\", \n",
      "        \"id\": \"788809017808073\"\n",
      "      }, \n",
      "      {\n",
      "        \"name\": \"Yung Chun Lu\", \n",
      "        \"id\": \"100000515931342\"\n",
      "      }, \n",
      "      {\n",
      "        \"name\": \"Han Han W\", \n",
      "        \"id\": \"100000875428300\"\n",
      "      }, \n",
      "      {\n",
      "        \"name\": \"\\u9ec3\\u5fd7\\u4ec1\", \n",
      "        \"id\": \"671247346255624\"\n",
      "      }, \n",
      "      {\n",
      "        \"name\": \"\\u738b\\u51a0\\u4eba\", \n",
      "        \"id\": \"692328137487907\"\n",
      "      }, \n",
      "      {\n",
      "        \"name\": \"\\u9023\\u8056\\u8c6a\", \n",
      "        \"id\": \"841212009270676\"\n",
      "      }, \n",
      "      {\n",
      "        \"name\": \"\\u9ec3\\u610f\\u582f\", \n",
      "        \"id\": \"100001716780738\"\n",
      "      }, \n",
      "      {\n",
      "        \"name\": \"Tim Bian\", \n",
      "        \"id\": \"670280279717230\"\n",
      "      }, \n",
      "      {\n",
      "        \"name\": \"Johnson Liang\", \n",
      "        \"id\": \"100002188898192\"\n",
      "      }, \n",
      "      {\n",
      "        \"name\": \"Meow Meow\", \n",
      "        \"id\": \"100002452865294\"\n",
      "      }, \n",
      "      {\n",
      "        \"name\": \"\\u984f\\u5b8f\\u54f2\", \n",
      "        \"id\": \"733476293412784\"\n",
      "      }, \n",
      "      {\n",
      "        \"name\": \"Charlie  Wu\", \n",
      "        \"id\": \"567354360032283\"\n",
      "      }, \n",
      "      {\n",
      "        \"name\": \"Adrian Liaw\", \n",
      "        \"id\": \"403664106439248\"\n",
      "      }, \n",
      "      {\n",
      "        \"name\": \"\\u97cb\\u5c1a\\u752b\", \n",
      "        \"id\": \"469196499887923\"\n",
      "      }, \n",
      "      {\n",
      "        \"name\": \"Alisha  Smile\", \n",
      "        \"id\": \"475059315968327\"\n",
      "      }, \n",
      "      {\n",
      "        \"name\": \"\\u8607\\u591a\\u9580\", \n",
      "        \"id\": \"100004943833128\"\n",
      "      }\n",
      "    ], \n",
      "    \"summary\": {\n",
      "      \"total_count\": 563\n",
      "    }\n",
      "  }, \n",
      "  \"id\": \"466344503500538\", \n",
      "  \"name\": \"Alexander  Shieh\"\n",
      "}"
     ]
    },
    {
     "name": "stdout",
     "output_type": "stream",
     "text": [
      "\n"
     ]
    }
   ],
   "source": [
    "import requests\n",
    "import json\n",
    "\n",
    "GraphAPI = 'https://graph.facebook.com/'\n",
    "NodeID = 'me'\n",
    "Fields = 'id,name,friends'\n",
    "URL = GraphAPI + NodeID + '?fields=' + Fields + '&access_token=' + AccessToken\n",
    "\n",
    "print URL\n",
    "\n",
    "DATA = requests.get(URL).json()\n",
    "BUT4 = json.dumps(DATA, indent = 2)\n",
    "\n",
    "print BUT4"
   ]
  },
  {
   "cell_type": "markdown",
   "metadata": {
    "slideshow": {
     "slide_type": "slide"
    }
   },
   "source": [
    "##尋找好讚友"
   ]
  },
  {
   "cell_type": "markdown",
   "metadata": {
    "slideshow": {
     "slide_type": "subslide"
    }
   },
   "source": [
    "###分析--資料長什麼樣子？\n",
    "###問題\n",
    "1. 如何換頁\n",
    "2. 如何計數"
   ]
  },
  {
   "cell_type": "code",
   "execution_count": 10,
   "metadata": {
    "collapsed": false,
    "slideshow": {
     "slide_type": "subslide"
    }
   },
   "outputs": [
    {
     "name": "stdout",
     "output_type": "stream",
     "text": [
      "[(u'\\u5289\\u5289\\u701a', 235), (u'\\u9ec3\\u884c', 216), (u'\\u9673\\u67cf\\u6587', 176), (u'Thomas Chou', 158), (u'Brian Liu', 156), (u'\\u912d\\u6709\\u70ba', 136), (u'\\u838a\\u66dc\\u745c', 132), (u'\\u5e38\\u9d3b\\u7fd4', 131), (u'Daniel Day', 121), (u'Ryan Lin', 120)]\n"
     ]
    }
   ],
   "source": [
    "import requests\n",
    "import json\n",
    "import collections\n",
    "\n",
    "\n",
    "\n",
    "GraphAPI = 'https://graph.facebook.com/'\n",
    "NodeID = '100001781926828'\n",
    "Fields = 'posts'\n",
    "URL = GraphAPI + NodeID + '?fields=' + Fields + '&access_token=' + AccessToken\n",
    "\n",
    "cntLikes = collections.Counter()\n",
    "tmp = URL\n",
    "while True:\n",
    "    data = requests.get(tmp).json()\n",
    "    if(data.get(\"posts\")):\n",
    "        data = data['posts']\n",
    "    if(data['data'] == []):\n",
    "        break\n",
    "    \n",
    "    for i in data['data']:\n",
    "        if i.get(\"likes\"):\n",
    "            for j in i['likes']['data']:\n",
    "                cntLikes[j['name']] += 1 \n",
    "    \n",
    "    tmp = data['paging']['next']\n",
    "\n",
    "    \n",
    "print cntLikes.most_common(10)"
   ]
  },
  {
   "cell_type": "code",
   "execution_count": 11,
   "metadata": {
    "collapsed": false,
    "slideshow": {
     "slide_type": "subslide"
    }
   },
   "outputs": [
    {
     "name": "stdout",
     "output_type": "stream",
     "text": [
      "劉劉瀚: 235\n",
      "黃行: 216\n",
      "陳柏文: 176\n",
      "Thomas Chou: 158\n",
      "Brian Liu: 156\n",
      "鄭有為: 136\n",
      "莊曜瑜: 132\n",
      "常鴻翔: 131\n",
      "Daniel Day: 121\n",
      "Ryan Lin: 120\n",
      "Maggie Hsueh: 113\n",
      "Chen Austin: 107\n",
      "蔡兆豐: 104\n",
      "俞建安: 102\n",
      "Charlie  Wu: 101\n",
      "Allen  Yeh: 99\n",
      "王伶辰: 99\n",
      "常佳云: 98\n",
      "徐梓軒: 93\n",
      "楊智鈞: 90\n",
      "Hua Shan Shih: 90\n",
      "陳映慈: 89\n",
      "Sarah Hsueh: 87\n",
      "潘泓安: 83\n",
      "吳沛純: 82\n",
      "James Huang: 81\n",
      "Pa Per Ag Hsieh: 80\n",
      "劉曜瑜: 79\n",
      "Annie Liu: 74\n",
      "Edward  Gu: 71\n",
      "吳婉瑜: 66\n",
      "Chen  Jennifer: 60\n",
      "丁益堂: 56\n",
      "陳典佑: 53\n",
      "周家弘: 53\n",
      "戴珮慈: 53\n",
      "Jessie  Hsu: 51\n",
      "陳怡靜: 51\n",
      "孫偉恩: 50\n",
      "Pin Lin: 50\n",
      "張邦晏: 49\n",
      "The Kevin: 48\n",
      "黃于庭: 48\n",
      "黃微芸: 47\n",
      "宋佳芸: 47\n",
      "郭洸丞: 45\n",
      "陳子揚: 45\n",
      "謝宗林: 45\n",
      "Phoebe Chen: 44\n",
      "Vincent  Lin: 44\n",
      "王姝甯: 44\n",
      "Chi-Hsien Liu: 43\n",
      "王彥仁: 41\n",
      "Sam Lin: 41\n",
      "Meng Jung  Chan: 40\n",
      "何智凡: 40\n",
      "洪立庭: 40\n",
      "蘇敬惟: 39\n",
      "王湘翎: 38\n",
      "吳博翰: 38\n",
      "那個人: 38\n",
      "Vince Tsai: 38\n",
      "呂國瑋: 37\n",
      "徐華均: 37\n",
      "林欣怡: 36\n",
      "林祐丞: 35\n",
      "賴其旻: 35\n",
      "蔡宏文: 35\n",
      "杜明軒: 34\n",
      "Brian  Tseng: 34\n",
      "楊岱霖: 33\n",
      "詹育潔: 30\n",
      "陳亮宇: 30\n",
      "Anna Chang: 30\n",
      "陳其廷: 30\n",
      "江昕璋: 30\n",
      "賴柏宏: 29\n",
      "黃元佑: 29\n",
      "孫海軒: 28\n",
      "陳柏均: 28\n",
      "沈岱柔: 28\n",
      "Fred  Lin: 27\n",
      "莊克偉: 27\n",
      "Michelle Chiang: 26\n",
      "Chih Han Lee: 26\n",
      "賴美玲: 26\n",
      "Sean Wan: 26\n",
      "謝錦漢: 24\n",
      "Shih Chi Huang: 24\n",
      "施懿珊: 24\n",
      "Adrian Lee: 24\n",
      "黃志仁: 24\n",
      "葉奈醬: 24\n",
      "白俠彥: 24\n",
      "鄭媄瑧: 23\n",
      "陳芝坊: 23\n",
      "Li-Lun Wang: 23\n",
      "簡邑丞: 23\n",
      "李婉瑜: 22\n",
      "蔡宗翰: 22\n"
     ]
    }
   ],
   "source": [
    "rank = cntLikes.most_common(100)\n",
    "\n",
    "for i in rank:\n",
    "    print \"%s: %d\" % (i[0], i[1])"
   ]
  },
  {
   "cell_type": "markdown",
   "metadata": {
    "slideshow": {
     "slide_type": "slide"
    }
   },
   "source": [
    "##留言數"
   ]
  },
  {
   "cell_type": "markdown",
   "metadata": {
    "slideshow": {
     "slide_type": "subslide"
    }
   },
   "source": [
    "###迅速修改上面的code\n",
    "###誰最快做出答案www"
   ]
  },
  {
   "cell_type": "code",
   "execution_count": 12,
   "metadata": {
    "collapsed": false,
    "slideshow": {
     "slide_type": "subslide"
    }
   },
   "outputs": [
    {
     "name": "stdout",
     "output_type": "stream",
     "text": [
      "[(u'Alexander  Shieh', 568), (u'Sarah Hsueh', 138), (u'\\u9ec3\\u884c', 128), (u'\\u5289\\u5289\\u701a', 87), (u'Hua Shan Shih', 75), (u'Sean Wan', 68), (u'Daniel Day', 65), (u'\\u5468\\u9038', 57), (u'\\u9ec3\\u5143\\u4f51', 57), (u'\\u7fc1\\u8a69\\u8afa', 50)]\n"
     ]
    }
   ],
   "source": [
    "import requests\n",
    "import json\n",
    "import collections\n",
    "\n",
    "\n",
    "\n",
    "GraphAPI = 'https://graph.facebook.com/'\n",
    "NodeID = '100001781926828'\n",
    "Fields = 'posts'\n",
    "URL = GraphAPI + NodeID + '?fields=' + Fields + '&access_token=' + AccessToken\n",
    "\n",
    "cntComments = collections.Counter()\n",
    "tmp = URL\n",
    "\n",
    "while True:\n",
    "    data = requests.get(tmp).json()\n",
    "    if(data.get(\"posts\")):\n",
    "        data = data['posts']\n",
    "    if(data['data'] == []):\n",
    "        break\n",
    "    \n",
    "    for i in data['data']:\n",
    "        if i.get(\"comments\"):\n",
    "            for j in i['comments']['data']:\n",
    "                cntComments[j['from']['name']] += 1 \n",
    "    \n",
    "    tmp = data['paging']['next']\n",
    "\n",
    "    \n",
    "print cntComments.most_common(10)"
   ]
  },
  {
   "cell_type": "code",
   "execution_count": 13,
   "metadata": {
    "collapsed": false,
    "slideshow": {
     "slide_type": "subslide"
    }
   },
   "outputs": [
    {
     "name": "stdout",
     "output_type": "stream",
     "text": [
      "Alexander  Shieh: 568\n",
      "Sarah Hsueh: 138\n",
      "黃行: 128\n",
      "劉劉瀚: 87\n",
      "Hua Shan Shih: 75\n",
      "Sean Wan: 68\n",
      "Daniel Day: 65\n",
      "周逸: 57\n",
      "黃元佑: 57\n",
      "翁詩諺: 50\n",
      "陳柏文: 45\n",
      "俞建安: 45\n",
      "Chi-Hsien Liu: 42\n",
      "James Huang: 39\n",
      "周家弘: 36\n",
      "葉奕辰: 36\n",
      "Thomas Chou: 36\n",
      "吳仲昇: 35\n",
      "鄭有為: 34\n",
      "Charlie  Wu: 33\n",
      "黃微芸: 29\n",
      "唐琝蓁: 28\n",
      "丁益堂: 28\n",
      "林原慶: 27\n",
      "Kaabii  Hoshi: 27\n",
      "Vincent  Lin: 26\n",
      "徐梓軒: 26\n",
      "張祐瑜: 25\n",
      "從恩蕭: 24\n",
      "徐家輝: 22\n",
      "張家萱: 20\n",
      "Lien  Ted: 20\n",
      "Adrian Lee: 19\n",
      "Brian Liu: 19\n",
      "Shih Chi Huang: 19\n",
      "Ryan Lin: 19\n",
      "陳典佑: 18\n",
      "那個人: 18\n",
      "陳欽安: 17\n",
      "邱宇倫: 17\n",
      "Allen  Yeh: 16\n",
      "呂國瑋: 15\n",
      "陳宏學: 15\n",
      "胡乃中: 14\n",
      "周婷婷: 14\n",
      "謝宗林: 12\n",
      "孫偉恩: 12\n",
      "黃志仁: 12\n",
      "沈岱柔: 12\n",
      "Eric Wu: 12\n",
      "Li-Lun Wang: 12\n",
      "謝達永: 11\n",
      "Yi-Yo Chiang: 11\n",
      "Annie Liu: 11\n",
      "賴柏宏: 11\n",
      "張凱鈞: 11\n",
      "Carol  Cheng: 11\n",
      "鄧逸軒: 10\n",
      "楊智鈞: 10\n",
      "Chia-Chi Chang: 9\n",
      "賴美玲: 9\n",
      "高偉: 9\n",
      "許明揚: 9\n",
      "Maggie Hsueh: 9\n",
      "王伶辰: 9\n",
      "Daemor Liang: 8\n",
      "熊恩: 8\n",
      "宋佳芸: 8\n",
      "呂紹民: 8\n",
      "常佳云: 8\n",
      "Cat  Jiang: 8\n",
      "韓可容: 7\n",
      "簡慈恩: 7\n",
      "楊岱霖: 7\n",
      "王湘翎: 7\n",
      "林捷夫: 7\n",
      "Thomas Anderson: 7\n",
      "劉曜瑜: 6\n",
      "陳家陞: 6\n",
      "廖品容: 6\n",
      "陳亮宇: 6\n",
      "白俠彥: 6\n",
      "Alex Chang: 6\n",
      "孫海軒: 6\n",
      "郭洸丞: 6\n",
      "吳若瑜: 6\n",
      "鄭敬霖: 6\n",
      "吳鼎睿: 5\n",
      "Fred  Lin: 5\n",
      "顏睿楠: 5\n",
      "常鴻翔: 5\n",
      "William Yang: 5\n",
      "許浩威: 5\n",
      "陳子揚: 5\n",
      "陳昌詮: 5\n",
      "鄭冠俞: 5\n",
      "Chih-Cheng Liang: 5\n",
      "王彥仁: 5\n",
      "Chen Austin: 5\n",
      "謝錦漢: 5\n"
     ]
    }
   ],
   "source": [
    "rank = cntComments.most_common(100)\n",
    "\n",
    "for i in rank:\n",
    "    print \"%s: %d\" % (i[0], i[1])"
   ]
  },
  {
   "cell_type": "markdown",
   "metadata": {
    "slideshow": {
     "slide_type": "slide"
    }
   },
   "source": [
    "##延伸閱讀\n",
    "[NetworkX](http://www.cl.cam.ac.uk/~cm542/teaching/2010/stna-pdfs/stna-lecture8.pdf)"
   ]
  },
  {
   "cell_type": "markdown",
   "metadata": {
    "slideshow": {
     "slide_type": "slide"
    }
   },
   "source": [
    "##額外功能--轉成Slides\n",
    "###ipython nbconvert 20141220Code.ipynb --to slides --post serve"
   ]
  },
  {
   "cell_type": "markdown",
   "metadata": {
    "slideshow": {
     "slide_type": "subslide"
    }
   },
   "source": [
    "##不過...要怎麼換頁\n",
    "###Cell Toolbar: Slideshow"
   ]
  }
 ],
 "metadata": {
  "celltoolbar": "Slideshow"
 },
 "nbformat": 4,
 "nbformat_minor": 0
}
