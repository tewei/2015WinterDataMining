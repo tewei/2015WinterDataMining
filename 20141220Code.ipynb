{
 "metadata": {
  "celltoolbar": "Slideshow",
  "name": "",
  "signature": "sha256:7e92b8f4f309b6d0d4bd7e553dfb32dc87caaeeeddd783e14c979d478cc362b9"
 },
 "nbformat": 3,
 "nbformat_minor": 0,
 "worksheets": [
  {
   "cells": [
    {
     "cell_type": "markdown",
     "metadata": {
      "slideshow": {
       "slide_type": "slide"
      }
     },
     "source": [
      "#\u81ea\u5df1\u7684Facebook\u81ea\u5df1\u5206\u6790\n",
      "###By tewei \u5c0f\u7f8e\n",
      "###1. \u4eca\u5929\u8ab2\u7684\u5206\u91cf\u5f88\u5c11\u8acb\u5927\u5bb6\u5118\u91cf\u505a\u5b8c\n",
      "###2. \u8b1b\u5e2b\u4e0d\u662f\u5f88\u61c2\u4eca\u5929\u8981\u8b1b\u7684\u6771\u897f\u8acb\u5927\u5bb6\u591a\u591a\u5305\u51fd"
     ]
    },
    {
     "cell_type": "markdown",
     "metadata": {
      "slideshow": {
       "slide_type": "slide"
      }
     },
     "source": [
      "##\u5b89\u88dd\u9806\u5e8f\n",
      "###1. Python 2.7 (\u8a18\u5f97\u52a0\u5165Path)\n",
      "###2. PIP (python get-pip.py) (\u8a18\u5f97\u52a0\u5165Path!!!)\n",
      "###3. pip install ipython\n",
      "###4. pip install requests"
     ]
    },
    {
     "cell_type": "markdown",
     "metadata": {
      "slideshow": {
       "slide_type": "subslide"
      }
     },
     "source": [
      "##\u958b\u5553ipython notebook\n",
      "###ipython notebook"
     ]
    },
    {
     "cell_type": "markdown",
     "metadata": {
      "slideshow": {
       "slide_type": "slide"
      }
     },
     "source": [
      "##\u9996\u5148\u4ecb\u7d39Python"
     ]
    },
    {
     "cell_type": "markdown",
     "metadata": {
      "slideshow": {
       "slide_type": "slide"
      }
     },
     "source": [
      "##List\n",
      "###\u7c21\u55ae\u7684\u5c0f\u6771\u897f"
     ]
    },
    {
     "cell_type": "code",
     "collapsed": false,
     "input": [
      "a = [1, 2]\n",
      "a.append([3, 4, 5])\n",
      "\n",
      "print a"
     ],
     "language": "python",
     "metadata": {
      "slideshow": {
       "slide_type": "subslide"
      }
     },
     "outputs": [
      {
       "output_type": "stream",
       "stream": "stdout",
       "text": [
        "[1, 2, [3, 4, 5]]\n"
       ]
      }
     ],
     "prompt_number": 11
    },
    {
     "cell_type": "code",
     "collapsed": false,
     "input": [
      "a = [1, 2]\n",
      "a.extend([3, 4, 5])\n",
      "\n",
      "print a"
     ],
     "language": "python",
     "metadata": {
      "slideshow": {
       "slide_type": "subslide"
      }
     },
     "outputs": [
      {
       "output_type": "stream",
       "stream": "stdout",
       "text": [
        "[1, 2, 3, 4, 5]\n"
       ]
      }
     ],
     "prompt_number": 12
    },
    {
     "cell_type": "code",
     "collapsed": false,
     "input": [
      "a = [\"\u7532\", \"\u4e59\", \"\u4e19\", \"\u4e01\", \"\u620a\"]\n",
      "\n",
      "for i in a:\n",
      "    print i\n",
      "\n",
      "print \"\u9577\u5ea6: \" + str(len(a))"
     ],
     "language": "python",
     "metadata": {
      "slideshow": {
       "slide_type": "subslide"
      }
     },
     "outputs": [
      {
       "output_type": "stream",
       "stream": "stdout",
       "text": [
        "\u7532\n",
        "\u4e59\n",
        "\u4e19\n",
        "\u4e01\n",
        "\u620a\n",
        "\u9577\u5ea6: 5\n"
       ]
      }
     ],
     "prompt_number": 13
    },
    {
     "cell_type": "markdown",
     "metadata": {
      "slideshow": {
       "slide_type": "slide"
      }
     },
     "source": [
      "##Dictionary\n",
      "###\u4e00\u6a23\u662f\u7c21\u55ae\u7684\u5c0f\u6771\u897f"
     ]
    },
    {
     "cell_type": "code",
     "collapsed": false,
     "input": [
      "a = {}\n",
      "\n",
      "a['\u65a7\u982d'] = \"\u6211\u662f\u65a7\u982d\"\n",
      "a['\u9d28\u5b50'] = \"\u4ed6\u662f\u9d28\u5b50\"\n",
      "a['\u82ad\u6a02'] = \"\u4f60\u662f\u82ad\u6a02\""
     ],
     "language": "python",
     "metadata": {
      "slideshow": {
       "slide_type": "subslide"
      }
     },
     "outputs": [],
     "prompt_number": 14
    },
    {
     "cell_type": "code",
     "collapsed": false,
     "input": [
      "a = {\"\u65a7\u982d\": \"\u6211\u662f\u65a7\u982d\", \"\u9d28\u5b50\": \"\u4ed6\u662f\u9d28\u5b50\", \"\u82ad\u6a02\": \"\u4f60\u662f\u82ad\u6a02\"}\n",
      "\n",
      "for i in a:\n",
      "    print i + \": \" + a[i]\n"
     ],
     "language": "python",
     "metadata": {
      "slideshow": {
       "slide_type": "subslide"
      }
     },
     "outputs": [
      {
       "output_type": "stream",
       "stream": "stdout",
       "text": [
        "\u65a7\u982d: \u6211\u662f\u65a7\u982d\n",
        "\u82ad\u6a02: \u4f60\u662f\u82ad\u6a02\n",
        "\u9d28\u5b50: \u4ed6\u662f\u9d28\u5b50\n"
       ]
      }
     ],
     "prompt_number": 15
    },
    {
     "cell_type": "markdown",
     "metadata": {
      "slideshow": {
       "slide_type": "slide"
      }
     },
     "source": [
      "##Graph API Explorer"
     ]
    },
    {
     "cell_type": "markdown",
     "metadata": {
      "slideshow": {
       "slide_type": "subslide"
      }
     },
     "source": [
      "##\u53d6\u5f97Access Token\u4e4b\u524d\u8a18\u5f97\u8981\u628a\u6b0a\u9650\u6253\u958b"
     ]
    },
    {
     "cell_type": "markdown",
     "metadata": {
      "slideshow": {
       "slide_type": "slide"
      }
     },
     "source": [
      "##Get Access Token from [HERE](https://developers.facebook.com/tools/explorer/)\n"
     ]
    },
    {
     "cell_type": "code",
     "collapsed": false,
     "input": [
      "AccessToken = 'CAACEdEose0cBAJxzOfvbKII2SGPTNF9wQKiZBsI3c6IEf1L0N8ZC0ET3OEeidvTkVLZCVHWxzrZADqnhpImHqAZCGAOYCqC1u55ScEQABTCtf3oheEr5UOg44aBqY4IQs40ViNFhnYYSri1m7NUuncTaM61ZA8gkkLMoXUn7gZC0ZBCJdouUPDeotZCdH2qYsftnmM4PlrYha5TAHfZACgDIqfLWJYXbbSHrMZD'"
     ],
     "language": "python",
     "metadata": {
      "slideshow": {
       "slide_type": "subslide"
      }
     },
     "outputs": [],
     "prompt_number": 8
    },
    {
     "cell_type": "markdown",
     "metadata": {
      "slideshow": {
       "slide_type": "slide"
      }
     },
     "source": [
      "##Make a Request to GraphAPI"
     ]
    },
    {
     "cell_type": "code",
     "collapsed": false,
     "input": [
      "import requests\n",
      "import json\n",
      "\n",
      "GraphAPI = 'https://graph.facebook.com/'\n",
      "NodeID = 'me'\n",
      "Fields = 'id,name,friends'\n",
      "URL = GraphAPI + NodeID + '?fields=' + Fields + '&access_token=' + AccessToken\n",
      "\n",
      "print URL\n",
      "\n",
      "DATA = requests.get(URL).json()\n",
      "BUT4 = json.dumps(DATA, indent = 2)\n",
      "\n",
      "print BUT4"
     ],
     "language": "python",
     "metadata": {
      "slideshow": {
       "slide_type": "slide"
      }
     },
     "outputs": [
      {
       "output_type": "stream",
       "stream": "stdout",
       "text": [
        "https://graph.facebook.com/me?fields=id,name,friends&access_token=CAACEdEose0cBAJxzOfvbKII2SGPTNF9wQKiZBsI3c6IEf1L0N8ZC0ET3OEeidvTkVLZCVHWxzrZADqnhpImHqAZCGAOYCqC1u55ScEQABTCtf3oheEr5UOg44aBqY4IQs40ViNFhnYYSri1m7NUuncTaM61ZA8gkkLMoXUn7gZC0ZBCJdouUPDeotZCdH2qYsftnmM4PlrYha5TAHfZACgDIqfLWJYXbbSHrMZD\n",
        "{\n",
        "  \"friends\": {\n",
        "    \"paging\": {\n",
        "      \"next\": \"https://graph.facebook.com/v2.0/466344503500538/friends?access_token=CAACEdEose0cBAJxzOfvbKII2SGPTNF9wQKiZBsI3c6IEf1L0N8ZC0ET3OEeidvTkVLZCVHWxzrZADqnhpImHqAZCGAOYCqC1u55ScEQABTCtf3oheEr5UOg44aBqY4IQs40ViNFhnYYSri1m7NUuncTaM61ZA8gkkLMoXUn7gZC0ZBCJdouUPDeotZCdH2qYsftnmM4PlrYha5TAHfZACgDIqfLWJYXbbSHrMZD&limit=5000&offset=5000&__after_id=enc_AezFXyXluYVWvWk0xTCOoNa8l7UtgGxrlOZ9E2lWF-y-UwOWI-yXduweOl8PT1dwteCj3I7_zQRKlclJLkANMWYs\"\n",
        "    }, \n",
        "    \"data\": [\n",
        "      {\n",
        "        \"name\": \"Mike K Tung\", \n",
        "        \"id\": \"1200220\"\n",
        "      }, \n",
        "      {\n",
        "        \"name\": \"\\u6c5f\\u8aa0\\u654f\", \n",
        "        \"id\": \"831590493\"\n",
        "      }, \n",
        "      {\n",
        "        \"name\": \"Chien-Hsun Chen\", \n",
        "        \"id\": \"1025586530\"\n",
        "      }, \n",
        "      {\n",
        "        \"name\": \"Chia-Chi Chang\", \n",
        "        \"id\": \"1193385886\"\n",
        "      }, \n",
        "      {\n",
        "        \"name\": \"\\u675f\\u51f1\\u6587\", \n",
        "        \"id\": \"1448347314\"\n",
        "      }, \n",
        "      {\n",
        "        \"name\": \"Jui-Min Lee\", \n",
        "        \"id\": \"1470507523\"\n",
        "      }, \n",
        "      {\n",
        "        \"name\": \"\\u5f9e\\u6069\\u856d\", \n",
        "        \"id\": \"100000128930053\"\n",
        "      }, \n",
        "      {\n",
        "        \"name\": \"Willy Kuo\", \n",
        "        \"id\": \"100000133304694\"\n",
        "      }, \n",
        "      {\n",
        "        \"name\": \"\\u8a31\\u7950\\u7a0b\", \n",
        "        \"id\": \"100000169083072\"\n",
        "      }, \n",
        "      {\n",
        "        \"name\": \"Brian Liu\", \n",
        "        \"id\": \"881560418526592\"\n",
        "      }, \n",
        "      {\n",
        "        \"name\": \"\\u5510\\u741d\\u84c1\", \n",
        "        \"id\": \"908761125808363\"\n",
        "      }, \n",
        "      {\n",
        "        \"name\": \"\\u674e\\u4f69\\u7487\", \n",
        "        \"id\": \"788809017808073\"\n",
        "      }, \n",
        "      {\n",
        "        \"name\": \"Yung Chun Lu\", \n",
        "        \"id\": \"100000515931342\"\n",
        "      }, \n",
        "      {\n",
        "        \"name\": \"Han Han W\", \n",
        "        \"id\": \"100000875428300\"\n",
        "      }, \n",
        "      {\n",
        "        \"name\": \"\\u9ec3\\u5fd7\\u4ec1\", \n",
        "        \"id\": \"671247346255624\"\n",
        "      }, \n",
        "      {\n",
        "        \"name\": \"\\u738b\\u51a0\\u4eba\", \n",
        "        \"id\": \"692328137487907\"\n",
        "      }, \n",
        "      {\n",
        "        \"name\": \"\\u9023\\u8056\\u8c6a\", \n",
        "        \"id\": \"841212009270676\"\n",
        "      }, \n",
        "      {\n",
        "        \"name\": \"\\u9ec3\\u610f\\u582f\", \n",
        "        \"id\": \"100001716780738\"\n",
        "      }, \n",
        "      {\n",
        "        \"name\": \"Tim Bian\", \n",
        "        \"id\": \"670280279717230\"\n",
        "      }, \n",
        "      {\n",
        "        \"name\": \"Johnson Liang\", \n",
        "        \"id\": \"100002188898192\"\n",
        "      }, \n",
        "      {\n",
        "        \"name\": \"Meow Meow\", \n",
        "        \"id\": \"100002452865294\"\n",
        "      }, \n",
        "      {\n",
        "        \"name\": \"\\u984f\\u5b8f\\u54f2\", \n",
        "        \"id\": \"733476293412784\"\n",
        "      }, \n",
        "      {\n",
        "        \"name\": \"Charlie  Wu\", \n",
        "        \"id\": \"567354360032283\"\n",
        "      }, \n",
        "      {\n",
        "        \"name\": \"Adrian Liaw\", \n",
        "        \"id\": \"403664106439248\"\n",
        "      }, \n",
        "      {\n",
        "        \"name\": \"\\u97cb\\u5c1a\\u752b\", \n",
        "        \"id\": \"469196499887923\"\n",
        "      }, \n",
        "      {\n",
        "        \"name\": \"Alisha  Smile\", \n",
        "        \"id\": \"475059315968327\"\n",
        "      }, \n",
        "      {\n",
        "        \"name\": \"\\u8607\\u591a\\u9580\", \n",
        "        \"id\": \"100004943833128\"\n",
        "      }\n",
        "    ], \n",
        "    \"summary\": {\n",
        "      \"total_count\": 559\n",
        "    }\n",
        "  }, \n",
        "  \"id\": \"466344503500538\", \n",
        "  \"name\": \"Alexander  Shieh\"\n",
        "}"
       ]
      },
      {
       "output_type": "stream",
       "stream": "stdout",
       "text": [
        "\n"
       ]
      }
     ],
     "prompt_number": 9
    },
    {
     "cell_type": "markdown",
     "metadata": {
      "slideshow": {
       "slide_type": "slide"
      }
     },
     "source": [
      "##\u5c0b\u627e\u597d\u8b9a\u53cb"
     ]
    },
    {
     "cell_type": "markdown",
     "metadata": {
      "slideshow": {
       "slide_type": "subslide"
      }
     },
     "source": [
      "###\u5206\u6790--\u8cc7\u6599\u9577\u4ec0\u9ebc\u6a23\u5b50\uff1f\n",
      "###\u554f\u984c\n",
      "1. \u5982\u4f55\u63db\u9801\n",
      "2. \u5982\u4f55\u8a08\u6578"
     ]
    },
    {
     "cell_type": "code",
     "collapsed": false,
     "input": [
      "import requests\n",
      "import json\n",
      "import collections\n",
      "\n",
      "\n",
      "\n",
      "GraphAPI = 'https://graph.facebook.com/'\n",
      "NodeID = 'me'\n",
      "Fields = 'posts'\n",
      "URL = GraphAPI + NodeID + '?fields=' + Fields + '&access_token=' + AccessToken\n",
      "\n",
      "cntLikes = collections.Counter()\n",
      "tmp = URL\n",
      "while True:\n",
      "    data = requests.get(tmp).json()\n",
      "    if(data.get(\"posts\")):\n",
      "        data = data['posts']\n",
      "    if(data['data'] == []):\n",
      "        break\n",
      "    \n",
      "    for i in data['data']:\n",
      "        if i.get(\"likes\"):\n",
      "            for j in i['likes']['data']:\n",
      "                cntLikes[j['name']] += 1 \n",
      "    \n",
      "    tmp = data['paging']['next']\n",
      "\n",
      "    \n",
      "print cntLikes.most_common(10)"
     ],
     "language": "python",
     "metadata": {
      "slideshow": {
       "slide_type": "subslide"
      }
     },
     "outputs": [
      {
       "output_type": "stream",
       "stream": "stdout",
       "text": [
        "[(u'\\u5289\\u5289\\u701a', 235), (u'\\u9ec3\\u884c', 216), (u'\\u9673\\u67cf\\u6587', 176), (u'Thomas Chou', 158), (u'Brian Liu', 156), (u'\\u912d\\u6709\\u70ba', 136), (u'\\u838a\\u66dc\\u745c', 132), (u'\\u5e38\\u9d3b\\u7fd4', 131), (u'Daniel Day', 121), (u'Ryan Lin', 120)]\n"
       ]
      }
     ],
     "prompt_number": 10
    },
    {
     "cell_type": "code",
     "collapsed": false,
     "input": [
      "rank = cntLikes.most_common(100)\n",
      "\n",
      "for i in rank:\n",
      "    print \"%s: %d\" % (i[0], i[1])"
     ],
     "language": "python",
     "metadata": {
      "slideshow": {
       "slide_type": "subslide"
      }
     },
     "outputs": [
      {
       "output_type": "stream",
       "stream": "stdout",
       "text": [
        "\u5289\u5289\u701a: 235\n",
        "\u9ec3\u884c: 216\n",
        "\u9673\u67cf\u6587: 176\n",
        "Thomas Chou: 158\n",
        "Brian Liu: 156\n",
        "\u912d\u6709\u70ba: 136\n",
        "\u838a\u66dc\u745c: 132\n",
        "\u5e38\u9d3b\u7fd4: 131\n",
        "Daniel Day: 121\n",
        "Ryan Lin: 120\n",
        "Maggie Hsueh: 113\n",
        "Chen Austin: 107\n",
        "\u8521\u5146\u8c50: 104\n",
        "\u4fde\u5efa\u5b89: 102\n",
        "Charlie  Wu: 101\n",
        "Allen  Yeh: 99\n",
        "\u738b\u4f36\u8fb0: 99\n",
        "\u5e38\u4f73\u4e91: 98\n",
        "\u5f90\u6893\u8ed2: 93\n",
        "\u694a\u667a\u921e: 90\n",
        "Hua Shan Shih: 90\n",
        "\u9673\u6620\u6148: 89\n",
        "Sarah Hsueh: 87\n",
        "\u6f58\u6cd3\u5b89: 83\n",
        "\u5433\u6c9b\u7d14: 82\n",
        "James Huang: 81\n",
        "Pa Per Ag Hsieh: 80\n",
        "\u5289\u66dc\u745c: 79\n",
        "Annie Liu: 74\n",
        "Edward  Gu: 71\n",
        "\u5433\u5a49\u745c: 66\n",
        "Chen  Jennifer: 60\n",
        "\u4e01\u76ca\u5802: 56\n",
        "\u9673\u5178\u4f51: 53\n",
        "\u5468\u5bb6\u5f18: 53\n",
        "\u6234\u73ee\u6148: 53\n",
        "Jessie  Hsu: 51\n",
        "\u9673\u6021\u975c: 51\n",
        "\u5b6b\u5049\u6069: 50\n",
        "Pin Lin: 50\n",
        "\u5f35\u90a6\u664f: 49\n",
        "The Kevin: 48\n",
        "\u9ec3\u4e8e\u5ead: 48\n",
        "\u9ec3\u5fae\u82b8: 47\n",
        "\u5b8b\u4f73\u82b8: 47\n",
        "\u90ed\u6d38\u4e1e: 45\n",
        "\u9673\u5b50\u63da: 45\n",
        "\u8b1d\u5b97\u6797: 45\n",
        "Phoebe Chen: 44\n",
        "Vincent  Lin: 44\n",
        "\u738b\u59dd\u752f: 44\n",
        "Chi-Hsien Liu: 43\n",
        "\u738b\u5f65\u4ec1: 41\n",
        "Sam Lin: 41\n",
        "Meng Jung  Chan: 40\n",
        "\u4f55\u667a\u51e1: 40\n",
        "\u6d2a\u7acb\u5ead: 40\n",
        "\u8607\u656c\u60df: 39\n",
        "\u738b\u6e58\u7fce: 38\n",
        "\u5433\u535a\u7ff0: 38\n",
        "\u90a3\u500b\u4eba: 38\n",
        "Vince Tsai: 38\n",
        "\u5442\u570b\u744b: 37\n",
        "\u5f90\u83ef\u5747: 37\n",
        "\u6797\u6b23\u6021: 36\n",
        "\u6797\u7950\u4e1e: 35\n",
        "\u8cf4\u5176\u65fb: 35\n",
        "\u8521\u5b8f\u6587: 35\n",
        "\u675c\u660e\u8ed2: 34\n",
        "Brian  Tseng: 34\n",
        "\u694a\u5cb1\u9716: 33\n",
        "\u8a79\u80b2\u6f54: 30\n",
        "\u9673\u4eae\u5b87: 30\n",
        "Anna Chang: 30\n",
        "\u9673\u5176\u5ef7: 30\n",
        "\u6c5f\u6615\u748b: 30\n",
        "\u8cf4\u67cf\u5b8f: 29\n",
        "\u9ec3\u5143\u4f51: 29\n",
        "\u5b6b\u6d77\u8ed2: 28\n",
        "\u9673\u67cf\u5747: 28\n",
        "\u6c88\u5cb1\u67d4: 28\n",
        "Fred  Lin: 27\n",
        "\u838a\u514b\u5049: 27\n",
        "Michelle Chiang: 26\n",
        "Chih Han Lee: 26\n",
        "\u8cf4\u7f8e\u73b2: 26\n",
        "Sean Wan: 26\n",
        "\u8b1d\u9326\u6f22: 24\n",
        "Shih Chi Huang: 24\n",
        "\u65bd\u61ff\u73ca: 24\n",
        "Adrian Lee: 24\n",
        "\u9ec3\u5fd7\u4ec1: 24\n",
        "\u8449\u5948\u91ac: 24\n",
        "\u767d\u4fe0\u5f65: 24\n",
        "\u912d\u5a84\u7467: 23\n",
        "\u9673\u829d\u574a: 23\n",
        "Li-Lun Wang: 23\n",
        "\u7c21\u9091\u4e1e: 23\n",
        "\u674e\u5a49\u745c: 22\n",
        "\u8521\u5b97\u7ff0: 22\n"
       ]
      }
     ],
     "prompt_number": 11
    },
    {
     "cell_type": "markdown",
     "metadata": {
      "slideshow": {
       "slide_type": "slide"
      }
     },
     "source": [
      "##\u7559\u8a00\u6578"
     ]
    },
    {
     "cell_type": "markdown",
     "metadata": {
      "slideshow": {
       "slide_type": "subslide"
      }
     },
     "source": [
      "###\u8fc5\u901f\u4fee\u6539\u4e0a\u9762\u7684code\n",
      "###\u8ab0\u6700\u5feb\u505a\u51fa\u7b54\u6848www"
     ]
    },
    {
     "cell_type": "code",
     "collapsed": false,
     "input": [
      "import requests\n",
      "import json\n",
      "import collections\n",
      "\n",
      "\n",
      "\n",
      "GraphAPI = 'https://graph.facebook.com/'\n",
      "NodeID = 'me'\n",
      "Fields = 'posts'\n",
      "URL = GraphAPI + NodeID + '?fields=' + Fields + '&access_token=' + AccessToken\n",
      "\n",
      "cntComments = collections.Counter()\n",
      "tmp = URL\n",
      "\n",
      "while True:\n",
      "    data = requests.get(tmp).json()\n",
      "    if(data.get(\"posts\")):\n",
      "        data = data['posts']\n",
      "    if(data['data'] == []):\n",
      "        break\n",
      "    \n",
      "    for i in data['data']:\n",
      "        if i.get(\"comments\"):\n",
      "            for j in i['comments']['data']:\n",
      "                cntComments[j['from']['name']] += 1 \n",
      "    \n",
      "    tmp = data['paging']['next']\n",
      "\n",
      "    \n",
      "print cntComments.most_common(10)"
     ],
     "language": "python",
     "metadata": {
      "slideshow": {
       "slide_type": "subslide"
      }
     },
     "outputs": [
      {
       "output_type": "stream",
       "stream": "stdout",
       "text": [
        "[(u'Alexander  Shieh', 568), (u'Sarah Hsueh', 138), (u'\\u9ec3\\u884c', 128), (u'\\u5289\\u5289\\u701a', 87), (u'Hua Shan Shih', 75), (u'Sean Wan', 68), (u'Daniel Day', 65), (u'\\u5468\\u9038', 57), (u'\\u9ec3\\u5143\\u4f51', 57), (u'\\u7fc1\\u8a69\\u8afa', 50)]\n"
       ]
      }
     ],
     "prompt_number": 12
    },
    {
     "cell_type": "code",
     "collapsed": false,
     "input": [
      "rank = cntComments.most_common(100)\n",
      "\n",
      "for i in rank:\n",
      "    print \"%s: %d\" % (i[0], i[1])"
     ],
     "language": "python",
     "metadata": {
      "slideshow": {
       "slide_type": "subslide"
      }
     },
     "outputs": [
      {
       "output_type": "stream",
       "stream": "stdout",
       "text": [
        "Alexander  Shieh: 568\n",
        "Sarah Hsueh: 138\n",
        "\u9ec3\u884c: 128\n",
        "\u5289\u5289\u701a: 87\n",
        "Hua Shan Shih: 75\n",
        "Sean Wan: 68\n",
        "Daniel Day: 65\n",
        "\u5468\u9038: 57\n",
        "\u9ec3\u5143\u4f51: 57\n",
        "\u7fc1\u8a69\u8afa: 50\n",
        "\u9673\u67cf\u6587: 45\n",
        "\u4fde\u5efa\u5b89: 45\n",
        "Chi-Hsien Liu: 42\n",
        "James Huang: 39\n",
        "\u5468\u5bb6\u5f18: 36\n",
        "\u8449\u5955\u8fb0: 36\n",
        "Thomas Chou: 36\n",
        "\u5433\u4ef2\u6607: 35\n",
        "\u912d\u6709\u70ba: 34\n",
        "Charlie  Wu: 33\n",
        "\u9ec3\u5fae\u82b8: 29\n",
        "\u5510\u741d\u84c1: 28\n",
        "\u4e01\u76ca\u5802: 28\n",
        "\u6797\u539f\u6176: 27\n",
        "Kaabii  Hoshi: 27\n",
        "Vincent  Lin: 26\n",
        "\u5f90\u6893\u8ed2: 26\n",
        "\u5f35\u7950\u745c: 25\n",
        "\u5f9e\u6069\u856d: 24\n",
        "\u5f90\u5bb6\u8f1d: 22\n",
        "\u5f35\u5bb6\u8431: 20\n",
        "Lien  Ted: 20\n",
        "Adrian Lee: 19\n",
        "Brian Liu: 19\n",
        "Shih Chi Huang: 19\n",
        "Ryan Lin: 19\n",
        "\u9673\u5178\u4f51: 18\n",
        "\u90a3\u500b\u4eba: 18\n",
        "\u9673\u6b3d\u5b89: 17\n",
        "\u90b1\u5b87\u502b: 17\n",
        "Allen  Yeh: 16\n",
        "\u5442\u570b\u744b: 15\n",
        "\u9673\u5b8f\u5b78: 15\n",
        "\u80e1\u4e43\u4e2d: 14\n",
        "\u5468\u5a77\u5a77: 14\n",
        "\u8b1d\u5b97\u6797: 12\n",
        "\u5b6b\u5049\u6069: 12\n",
        "\u9ec3\u5fd7\u4ec1: 12\n",
        "\u6c88\u5cb1\u67d4: 12\n",
        "Eric Wu: 12\n",
        "Li-Lun Wang: 12\n",
        "\u8b1d\u9054\u6c38: 11\n",
        "Yi-Yo Chiang: 11\n",
        "Annie Liu: 11\n",
        "\u8cf4\u67cf\u5b8f: 11\n",
        "\u5f35\u51f1\u921e: 11\n",
        "Carol  Cheng: 11\n",
        "\u9127\u9038\u8ed2: 10\n",
        "\u694a\u667a\u921e: 10\n",
        "Chia-Chi Chang: 9\n",
        "\u8cf4\u7f8e\u73b2: 9\n",
        "\u9ad8\u5049: 9\n",
        "\u8a31\u660e\u63da: 9\n",
        "Maggie Hsueh: 9\n",
        "\u738b\u4f36\u8fb0: 9\n",
        "Daemor Liang: 8\n",
        "\u718a\u6069: 8\n",
        "\u5b8b\u4f73\u82b8: 8\n",
        "\u5442\u7d39\u6c11: 8\n",
        "\u5e38\u4f73\u4e91: 8\n",
        "Cat  Jiang: 8\n",
        "\u97d3\u53ef\u5bb9: 7\n",
        "\u7c21\u6148\u6069: 7\n",
        "\u694a\u5cb1\u9716: 7\n",
        "\u738b\u6e58\u7fce: 7\n",
        "\u6797\u6377\u592b: 7\n",
        "Thomas Anderson: 7\n",
        "\u5289\u66dc\u745c: 6\n",
        "\u9673\u5bb6\u965e: 6\n",
        "\u5ed6\u54c1\u5bb9: 6\n",
        "\u9673\u4eae\u5b87: 6\n",
        "\u767d\u4fe0\u5f65: 6\n",
        "Alex Chang: 6\n",
        "\u5b6b\u6d77\u8ed2: 6\n",
        "\u90ed\u6d38\u4e1e: 6\n",
        "\u5433\u82e5\u745c: 6\n",
        "\u912d\u656c\u9716: 6\n",
        "\u5433\u9f0e\u777f: 5\n",
        "Fred  Lin: 5\n",
        "\u984f\u777f\u6960: 5\n",
        "\u5e38\u9d3b\u7fd4: 5\n",
        "William Yang: 5\n",
        "\u8a31\u6d69\u5a01: 5\n",
        "\u9673\u5b50\u63da: 5\n",
        "\u9673\u660c\u8a6e: 5\n",
        "\u912d\u51a0\u4fde: 5\n",
        "Chih-Cheng Liang: 5\n",
        "\u738b\u5f65\u4ec1: 5\n",
        "Chen Austin: 5\n",
        "\u8b1d\u9326\u6f22: 5\n"
       ]
      }
     ],
     "prompt_number": 13
    },
    {
     "cell_type": "markdown",
     "metadata": {
      "slideshow": {
       "slide_type": "slide"
      }
     },
     "source": [
      "##\u5ef6\u4f38\u95b1\u8b80\n",
      "[NetworkX](http://www.cl.cam.ac.uk/~cm542/teaching/2010/stna-pdfs/stna-lecture8.pdf)"
     ]
    },
    {
     "cell_type": "markdown",
     "metadata": {
      "slideshow": {
       "slide_type": "slide"
      }
     },
     "source": [
      "##\u984d\u5916\u529f\u80fd--\u8f49\u6210Slides\n",
      "###ipython nbconvert 20141220Code.ipynb --to slides --post serve"
     ]
    },
    {
     "cell_type": "markdown",
     "metadata": {
      "slideshow": {
       "slide_type": "subslide"
      }
     },
     "source": [
      "##\u4e0d\u904e...\u8981\u600e\u9ebc\u63db\u9801\n",
      "###Cell Toolbar: Slideshow"
     ]
    }
   ],
   "metadata": {}
  }
 ]
}